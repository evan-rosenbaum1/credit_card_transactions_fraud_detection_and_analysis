{
 "cells": [
  {
   "cell_type": "markdown",
   "id": "2ff790cb-5f39-4bf0-b9b3-3602fe8ec879",
   "metadata": {},
   "source": [
    "# Business Problem"
   ]
  },
  {
   "cell_type": "markdown",
   "id": "c5774d9c-cfb1-4192-a88f-9c78d146d471",
   "metadata": {},
   "source": [
    "ABC Bank is facing challenges in detecting credit card fraud due to their high volume of transactions. Their current system struggles with identifying fraud, leading to financial losses and customer dissatisfaction. To address these issues, the bank aims to develop a machine learning model with the goal of minimizing financial losses, improving customer trust, and enhancing operational efficiency by reducing manual transaction reviews."
   ]
  },
  {
   "cell_type": "markdown",
   "id": "1975a1f3-a9d4-4efc-ab02-cb460f382179",
   "metadata": {},
   "source": [
    "# Data Summary"
   ]
  },
  {
   "cell_type": "markdown",
   "id": "7c47f374-eb59-4dca-9fd8-4ff522779697",
   "metadata": {},
   "source": [
    "This dataset, Credit Card Transaction Records Dataset, is from Kaggle. It contains over 1.85 million records of credit card transactions, including details about transaction times, amounts, and personal and merchant information. \n",
    "\n",
    "For the purposes of running analysis and models efficiently, the data set was trimmed to 50,000 rows. Out of the 50,000 transactions, 6,363 transactions are fraudlent."
   ]
  },
  {
   "cell_type": "markdown",
   "id": "d7dc24fa-e261-4c46-a7d5-486a909f2b77",
   "metadata": {},
   "source": [
    "# Project Summary"
   ]
  },
  {
   "cell_type": "markdown",
   "id": "de5e63a0-c0e1-4f85-a7e2-a21bf85f2c55",
   "metadata": {},
   "source": [
    "In this project, I focused on developing a machine learning pipeline to detect credit card fraud using an imbalanced dataset. \n",
    "\n",
    "To address the class imbalance, I used various resampling techniques, including oversampling, SMOTE, Borderline SMOTE, KMeans SMOTE, ADASYN, SMOTE Tomek, and SMOTE ENN. These methods were used to create a balanced training set, improving the ability to detect fraud.\n",
    "\n",
    "For the classification models, I used the following algorithms, Logistic Regression, Decision Tree Classifier, K-Nearest Neighbors, Bagging Classifier, Random Forest, and KMeans. These models provided a baseline performance and were evaluated to determine their effectiveness in fraud detection.\n",
    "\n",
    "Additionally, I implemented boosting models to improve the results of the best basline model. I used Gradient Boosting Classifier, XGBoost (XGBClassifier), and LightGBM (LGBMClassifier). The best base model was the Random Forest model that used oversampling. This model boosted using LightGBM achieved the highest PR-AUC score of 0.998722. \n",
    "\n",
    "The PR-AUC score tells us that the model is effective at identifying the positive class (credit card fraud) with a good balance between precision (few false positives) and recall (few false negatives). This means the model is strong at correctly detecting actual fraud cases while minimizing false alarms. \n",
    "\n",
    "This project demonstrates the effectiveness of using resampling techniques and boosting models to tackle the challenge of detecting fraud in an imbalanced dataset, offering a solution for real-world fraud detection scenarios."
   ]
  },
  {
   "cell_type": "markdown",
   "id": "86e47d07-aa8c-46c2-9215-c5b114e7a0cf",
   "metadata": {},
   "source": [
    "# Import Packages and Data"
   ]
  },
  {
   "cell_type": "code",
   "execution_count": 117,
   "id": "4099fb7f-0dbf-4d81-ac80-e96be74b9d7e",
   "metadata": {},
   "outputs": [],
   "source": [
    "import warnings\n",
    "warnings.filterwarnings('ignore')\n",
    "\n",
    "import pandas as pd\n",
    "import numpy as np\n",
    "import matplotlib.pyplot as plt\n",
    "import seaborn as sns\n",
    "from datetime import datetime\n",
    "from geopy.distance import great_circle\n",
    "\n",
    "from scipy.stats import chi2_contingency\n",
    "from statsmodels.stats.outliers_influence import variance_inflation_factor\n",
    "\n",
    "from sklearn.pipeline import Pipeline\n",
    "from sklearn.compose import ColumnTransformer\n",
    "from sklearn.preprocessing import StandardScaler, OneHotEncoder\n",
    "from imblearn.pipeline import Pipeline as ImbPipeline\n",
    "from imblearn.over_sampling import SMOTE\n",
    "from sklearn.metrics import f1_score, average_precision_score\n",
    "from sklearn.model_selection import train_test_split\n",
    "from sklearn.metrics import precision_recall_curve, auc, make_scorer\n",
    "from imblearn.over_sampling import RandomOverSampler, SMOTE, BorderlineSMOTE, KMeansSMOTE, ADASYN\n",
    "from imblearn.combine import SMOTETomek, SMOTEENN\n",
    "\n",
    "from sklearn.linear_model import LogisticRegression\n",
    "from sklearn.tree import DecisionTreeClassifier\n",
    "from sklearn.neighbors import KNeighborsClassifier\n",
    "from sklearn.ensemble import BaggingClassifier, RandomForestClassifier\n",
    "from sklearn.cluster import KMeans\n",
    "\n",
    "from sklearn.ensemble import GradientBoostingClassifier\n",
    "from xgboost import XGBClassifier\n",
    "from lightgbm import LGBMClassifier\n",
    "\n",
    "from src.classes import *"
   ]
  },
  {
   "cell_type": "code",
   "execution_count": 2,
   "id": "6b3d0d11-f918-45aa-a6eb-f9556a6ed873",
   "metadata": {},
   "outputs": [],
   "source": [
    "cc_df = pd.read_csv(\"data/credit_card_purchases_sampled.csv\")"
   ]
  },
  {
   "cell_type": "code",
   "execution_count": 3,
   "id": "4d055843-b6fd-4cbe-a981-13beec6c7151",
   "metadata": {},
   "outputs": [
    {
     "name": "stdout",
     "output_type": "stream",
     "text": [
      "<class 'pandas.core.frame.DataFrame'>\n",
      "RangeIndex: 50000 entries, 0 to 49999\n",
      "Data columns (total 24 columns):\n",
      " #   Column                 Non-Null Count  Dtype  \n",
      "---  ------                 --------------  -----  \n",
      " 0   Unnamed: 0             50000 non-null  int64  \n",
      " 1   trans_date_trans_time  50000 non-null  object \n",
      " 2   cc_num                 50000 non-null  int64  \n",
      " 3   merchant               50000 non-null  object \n",
      " 4   category               50000 non-null  object \n",
      " 5   amt                    50000 non-null  float64\n",
      " 6   first                  50000 non-null  object \n",
      " 7   last                   50000 non-null  object \n",
      " 8   gender                 50000 non-null  object \n",
      " 9   street                 50000 non-null  object \n",
      " 10  city                   50000 non-null  object \n",
      " 11  state                  50000 non-null  object \n",
      " 12  zip                    50000 non-null  int64  \n",
      " 13  lat                    50000 non-null  float64\n",
      " 14  long                   50000 non-null  float64\n",
      " 15  city_pop               50000 non-null  int64  \n",
      " 16  job                    50000 non-null  object \n",
      " 17  dob                    50000 non-null  object \n",
      " 18  trans_num              50000 non-null  object \n",
      " 19  unix_time              50000 non-null  int64  \n",
      " 20  merch_lat              50000 non-null  float64\n",
      " 21  merch_long             50000 non-null  float64\n",
      " 22  is_fraud               50000 non-null  int64  \n",
      " 23  merch_zipcode          42464 non-null  float64\n",
      "dtypes: float64(6), int64(6), object(12)\n",
      "memory usage: 9.2+ MB\n"
     ]
    }
   ],
   "source": [
    "cc_df.info()"
   ]
  },
  {
   "cell_type": "code",
   "execution_count": 4,
   "id": "ade3140e-ec87-461c-bcc4-a6869c2d3391",
   "metadata": {},
   "outputs": [],
   "source": [
    "# Drop included index col\n",
    "cc_df.drop(['Unnamed: 0'], axis=1, inplace=True)"
   ]
  },
  {
   "cell_type": "code",
   "execution_count": 5,
   "id": "148c5a3c-db07-4c52-a5e1-56b214e0ae48",
   "metadata": {},
   "outputs": [
    {
     "name": "stdout",
     "output_type": "stream",
     "text": [
      "<class 'pandas.core.frame.DataFrame'>\n",
      "RangeIndex: 50000 entries, 0 to 49999\n",
      "Data columns (total 23 columns):\n",
      " #   Column                 Non-Null Count  Dtype  \n",
      "---  ------                 --------------  -----  \n",
      " 0   trans_date_trans_time  50000 non-null  object \n",
      " 1   cc_num                 50000 non-null  int64  \n",
      " 2   merchant               50000 non-null  object \n",
      " 3   category               50000 non-null  object \n",
      " 4   amt                    50000 non-null  float64\n",
      " 5   first                  50000 non-null  object \n",
      " 6   last                   50000 non-null  object \n",
      " 7   gender                 50000 non-null  object \n",
      " 8   street                 50000 non-null  object \n",
      " 9   city                   50000 non-null  object \n",
      " 10  state                  50000 non-null  object \n",
      " 11  zip                    50000 non-null  int64  \n",
      " 12  lat                    50000 non-null  float64\n",
      " 13  long                   50000 non-null  float64\n",
      " 14  city_pop               50000 non-null  int64  \n",
      " 15  job                    50000 non-null  object \n",
      " 16  dob                    50000 non-null  object \n",
      " 17  trans_num              50000 non-null  object \n",
      " 18  unix_time              50000 non-null  int64  \n",
      " 19  merch_lat              50000 non-null  float64\n",
      " 20  merch_long             50000 non-null  float64\n",
      " 21  is_fraud               50000 non-null  int64  \n",
      " 22  merch_zipcode          42464 non-null  float64\n",
      "dtypes: float64(6), int64(5), object(12)\n",
      "memory usage: 8.8+ MB\n"
     ]
    }
   ],
   "source": [
    "cc_df.info()"
   ]
  },
  {
   "cell_type": "code",
   "execution_count": 6,
   "id": "cc154cbe-5125-4d51-aac3-7264e9d5660f",
   "metadata": {},
   "outputs": [
    {
     "data": {
      "text/html": [
       "<div>\n",
       "<style scoped>\n",
       "    .dataframe tbody tr th:only-of-type {\n",
       "        vertical-align: middle;\n",
       "    }\n",
       "\n",
       "    .dataframe tbody tr th {\n",
       "        vertical-align: top;\n",
       "    }\n",
       "\n",
       "    .dataframe thead th {\n",
       "        text-align: right;\n",
       "    }\n",
       "</style>\n",
       "<table border=\"1\" class=\"dataframe\">\n",
       "  <thead>\n",
       "    <tr style=\"text-align: right;\">\n",
       "      <th></th>\n",
       "      <th>trans_date_trans_time</th>\n",
       "      <th>cc_num</th>\n",
       "      <th>merchant</th>\n",
       "      <th>category</th>\n",
       "      <th>amt</th>\n",
       "      <th>first</th>\n",
       "      <th>last</th>\n",
       "      <th>gender</th>\n",
       "      <th>street</th>\n",
       "      <th>city</th>\n",
       "      <th>...</th>\n",
       "      <th>long</th>\n",
       "      <th>city_pop</th>\n",
       "      <th>job</th>\n",
       "      <th>dob</th>\n",
       "      <th>trans_num</th>\n",
       "      <th>unix_time</th>\n",
       "      <th>merch_lat</th>\n",
       "      <th>merch_long</th>\n",
       "      <th>is_fraud</th>\n",
       "      <th>merch_zipcode</th>\n",
       "    </tr>\n",
       "  </thead>\n",
       "  <tbody>\n",
       "    <tr>\n",
       "      <th>0</th>\n",
       "      <td>2020-06-03 12:43:29</td>\n",
       "      <td>581293083266</td>\n",
       "      <td>fraud_Reilly LLC</td>\n",
       "      <td>home</td>\n",
       "      <td>77.90</td>\n",
       "      <td>William</td>\n",
       "      <td>Thomas</td>\n",
       "      <td>M</td>\n",
       "      <td>39227 Mcpherson Shoals</td>\n",
       "      <td>Lahoma</td>\n",
       "      <td>...</td>\n",
       "      <td>-98.0727</td>\n",
       "      <td>1078</td>\n",
       "      <td>Podiatrist</td>\n",
       "      <td>1989-10-06</td>\n",
       "      <td>f3d6477a2e1bb93f4c1b18adf2a607d1</td>\n",
       "      <td>1370263409</td>\n",
       "      <td>36.566036</td>\n",
       "      <td>-97.237692</td>\n",
       "      <td>0</td>\n",
       "      <td>74644.0</td>\n",
       "    </tr>\n",
       "    <tr>\n",
       "      <th>1</th>\n",
       "      <td>2020-04-18 19:57:14</td>\n",
       "      <td>340953839692349</td>\n",
       "      <td>fraud_Hamill-D'Amore</td>\n",
       "      <td>health_fitness</td>\n",
       "      <td>47.78</td>\n",
       "      <td>Tyler</td>\n",
       "      <td>Wright</td>\n",
       "      <td>M</td>\n",
       "      <td>615 Clarke Spring Apt. 172</td>\n",
       "      <td>Warren</td>\n",
       "      <td>...</td>\n",
       "      <td>-82.9832</td>\n",
       "      <td>134056</td>\n",
       "      <td>Doctor, hospital</td>\n",
       "      <td>1980-05-18</td>\n",
       "      <td>0fbb710e4a8d253580751528c7a2cd92</td>\n",
       "      <td>1366315034</td>\n",
       "      <td>42.837893</td>\n",
       "      <td>-83.228559</td>\n",
       "      <td>0</td>\n",
       "      <td>48370.0</td>\n",
       "    </tr>\n",
       "    <tr>\n",
       "      <th>2</th>\n",
       "      <td>2019-01-14 22:23:54</td>\n",
       "      <td>3595192916105588</td>\n",
       "      <td>fraud_Kerluke, Considine and Macejkovic</td>\n",
       "      <td>misc_net</td>\n",
       "      <td>690.81</td>\n",
       "      <td>Dustin</td>\n",
       "      <td>Roberts</td>\n",
       "      <td>M</td>\n",
       "      <td>3283 James Station</td>\n",
       "      <td>Fayetteville</td>\n",
       "      <td>...</td>\n",
       "      <td>-79.0080</td>\n",
       "      <td>238602</td>\n",
       "      <td>Scientist, research (maths)</td>\n",
       "      <td>1993-05-14</td>\n",
       "      <td>cc0ce65bebf95fd2b2f76b3f8d2c15f7</td>\n",
       "      <td>1326579834</td>\n",
       "      <td>35.439158</td>\n",
       "      <td>-78.609636</td>\n",
       "      <td>1</td>\n",
       "      <td>27521.0</td>\n",
       "    </tr>\n",
       "    <tr>\n",
       "      <th>3</th>\n",
       "      <td>2019-08-02 09:31:48</td>\n",
       "      <td>4390966588600992777</td>\n",
       "      <td>fraud_Torp-Labadie</td>\n",
       "      <td>gas_transport</td>\n",
       "      <td>65.85</td>\n",
       "      <td>Kyle</td>\n",
       "      <td>Simmons</td>\n",
       "      <td>M</td>\n",
       "      <td>8149 Harris Divide</td>\n",
       "      <td>Oklahoma City</td>\n",
       "      <td>...</td>\n",
       "      <td>-97.5583</td>\n",
       "      <td>640470</td>\n",
       "      <td>Advertising copywriter</td>\n",
       "      <td>1966-06-24</td>\n",
       "      <td>d5b4400db9755821f60fa0bec602b2d2</td>\n",
       "      <td>1343899908</td>\n",
       "      <td>36.531040</td>\n",
       "      <td>-97.737859</td>\n",
       "      <td>0</td>\n",
       "      <td>74640.0</td>\n",
       "    </tr>\n",
       "    <tr>\n",
       "      <th>4</th>\n",
       "      <td>2019-01-14 16:03:53</td>\n",
       "      <td>36485887555770</td>\n",
       "      <td>fraud_Reichert, Shanahan and Hayes</td>\n",
       "      <td>shopping_net</td>\n",
       "      <td>67.11</td>\n",
       "      <td>Michael</td>\n",
       "      <td>Gross</td>\n",
       "      <td>M</td>\n",
       "      <td>230 Ryan Tunnel Apt. 025</td>\n",
       "      <td>Fulton</td>\n",
       "      <td>...</td>\n",
       "      <td>-82.8342</td>\n",
       "      <td>267</td>\n",
       "      <td>Facilities manager</td>\n",
       "      <td>2005-01-29</td>\n",
       "      <td>6270f5ee1b11d2354d6828508860f1ed</td>\n",
       "      <td>1326557033</td>\n",
       "      <td>41.189226</td>\n",
       "      <td>-81.864998</td>\n",
       "      <td>0</td>\n",
       "      <td>44280.0</td>\n",
       "    </tr>\n",
       "  </tbody>\n",
       "</table>\n",
       "<p>5 rows × 23 columns</p>\n",
       "</div>"
      ],
      "text/plain": [
       "  trans_date_trans_time               cc_num  \\\n",
       "0   2020-06-03 12:43:29         581293083266   \n",
       "1   2020-04-18 19:57:14      340953839692349   \n",
       "2   2019-01-14 22:23:54     3595192916105588   \n",
       "3   2019-08-02 09:31:48  4390966588600992777   \n",
       "4   2019-01-14 16:03:53       36485887555770   \n",
       "\n",
       "                                  merchant        category     amt    first  \\\n",
       "0                         fraud_Reilly LLC            home   77.90  William   \n",
       "1                     fraud_Hamill-D'Amore  health_fitness   47.78    Tyler   \n",
       "2  fraud_Kerluke, Considine and Macejkovic        misc_net  690.81   Dustin   \n",
       "3                       fraud_Torp-Labadie   gas_transport   65.85     Kyle   \n",
       "4       fraud_Reichert, Shanahan and Hayes    shopping_net   67.11  Michael   \n",
       "\n",
       "      last gender                      street           city  ...     long  \\\n",
       "0   Thomas      M      39227 Mcpherson Shoals         Lahoma  ... -98.0727   \n",
       "1   Wright      M  615 Clarke Spring Apt. 172         Warren  ... -82.9832   \n",
       "2  Roberts      M          3283 James Station   Fayetteville  ... -79.0080   \n",
       "3  Simmons      M          8149 Harris Divide  Oklahoma City  ... -97.5583   \n",
       "4    Gross      M    230 Ryan Tunnel Apt. 025         Fulton  ... -82.8342   \n",
       "\n",
       "   city_pop                          job         dob  \\\n",
       "0      1078                   Podiatrist  1989-10-06   \n",
       "1    134056             Doctor, hospital  1980-05-18   \n",
       "2    238602  Scientist, research (maths)  1993-05-14   \n",
       "3    640470       Advertising copywriter  1966-06-24   \n",
       "4       267           Facilities manager  2005-01-29   \n",
       "\n",
       "                          trans_num   unix_time  merch_lat merch_long  \\\n",
       "0  f3d6477a2e1bb93f4c1b18adf2a607d1  1370263409  36.566036 -97.237692   \n",
       "1  0fbb710e4a8d253580751528c7a2cd92  1366315034  42.837893 -83.228559   \n",
       "2  cc0ce65bebf95fd2b2f76b3f8d2c15f7  1326579834  35.439158 -78.609636   \n",
       "3  d5b4400db9755821f60fa0bec602b2d2  1343899908  36.531040 -97.737859   \n",
       "4  6270f5ee1b11d2354d6828508860f1ed  1326557033  41.189226 -81.864998   \n",
       "\n",
       "   is_fraud  merch_zipcode  \n",
       "0         0        74644.0  \n",
       "1         0        48370.0  \n",
       "2         1        27521.0  \n",
       "3         0        74640.0  \n",
       "4         0        44280.0  \n",
       "\n",
       "[5 rows x 23 columns]"
      ]
     },
     "execution_count": 6,
     "metadata": {},
     "output_type": "execute_result"
    }
   ],
   "source": [
    "cc_df.head()"
   ]
  },
  {
   "cell_type": "markdown",
   "id": "4ddaed31-cae6-426f-90dd-5864326c6830",
   "metadata": {},
   "source": [
    "# Exploratory Data Analysis and Cleaning"
   ]
  },
  {
   "cell_type": "markdown",
   "id": "a484ffb0-a0cc-4a84-9c1d-3eed210cb764",
   "metadata": {},
   "source": [
    "## Column Re-labeling"
   ]
  },
  {
   "cell_type": "code",
   "execution_count": 7,
   "id": "90a50134-0621-4093-87c3-c5e75511091d",
   "metadata": {},
   "outputs": [],
   "source": [
    "# Cast cc_num to string\n",
    "cc_df['cc_num'] = cc_df['cc_num'].astype(str)\n",
    "\n",
    "# Cast trans_date_trans_time to datetime\n",
    "cc_df['trans_date_trans_time'] = pd.to_datetime(cc_df['trans_date_trans_time'])\n",
    "cc_df['dob'] = pd.to_datetime(cc_df['dob'])\n",
    "\n",
    "# Rename column\n",
    "cc_df.rename(columns={'trans_date_trans_time' : 'timestamp'}, inplace=True)\n",
    "\n",
    "# Drop column\n",
    "cc_df.drop(['unix_time'], axis=1, inplace=True)"
   ]
  },
  {
   "cell_type": "markdown",
   "id": "1c8e9c12-9c29-4975-aea8-98a8306cf30d",
   "metadata": {},
   "source": [
    "## Missingness"
   ]
  },
  {
   "cell_type": "markdown",
   "id": "68821beb-180c-42ea-83b5-b33185378d01",
   "metadata": {},
   "source": [
    "The only column with missing values is 'merch_zipcode'. Lets investigate this column to see the effect dropping the columns would have. "
   ]
  },
  {
   "cell_type": "code",
   "execution_count": 8,
   "id": "297aa482-42c7-4e81-aa6f-2e0184df0191",
   "metadata": {},
   "outputs": [
    {
     "name": "stdout",
     "output_type": "stream",
     "text": [
      "Percentage of merch_zipcode values that are missing: 15.07%\n"
     ]
    }
   ],
   "source": [
    "# Calculate the total number of rows\n",
    "total_rows = cc_df.shape[0]\n",
    "\n",
    "# Calculate the number of non-null merch_zipcode values\n",
    "non_null_merch_zipcode = cc_df['merch_zipcode'].notnull().sum()\n",
    "\n",
    "# Calculate the number of missing merch_zipcode values\n",
    "missing_merch_zipcode = total_rows - non_null_merch_zipcode\n",
    "\n",
    "# Calculate the percentage of missing values\n",
    "percentage_missing = (missing_merch_zipcode / total_rows) * 100\n",
    "\n",
    "# Display the percentage of missing values\n",
    "print(f\"Percentage of merch_zipcode values that are missing: {percentage_missing:.2f}%\")"
   ]
  },
  {
   "cell_type": "markdown",
   "id": "43ebcf63-9802-4e5c-895c-a3f79e1ed753",
   "metadata": {},
   "source": [
    "Given that ~15.11% of the merchants zipcode are missing, dropping this many rows is difficult to do. But, there will still be 1.1 million transactions. \n",
    "\n",
    "When the model is being run, if the merchant zipcode is not an important feature, this decision will be revisited. "
   ]
  },
  {
   "cell_type": "code",
   "execution_count": 9,
   "id": "0e04f597-d446-4f3b-ad27-bcc035279542",
   "metadata": {},
   "outputs": [],
   "source": [
    "# Drop NaNs\n",
    "cc_df.dropna(subset=['merch_zipcode'], inplace=True)\n",
    "\n",
    "# Cast zip to string\n",
    "cc_df['merch_zipcode'] = cc_df['merch_zipcode'].astype(str)"
   ]
  },
  {
   "cell_type": "markdown",
   "id": "28f16829-2037-4e83-bb8d-54fd27dc5355",
   "metadata": {},
   "source": [
    "## Numerical Columns"
   ]
  },
  {
   "cell_type": "code",
   "execution_count": 10,
   "id": "670929bc-08a0-4e4f-ab87-cb04afcca5d4",
   "metadata": {},
   "outputs": [
    {
     "data": {
      "text/html": [
       "<div>\n",
       "<style scoped>\n",
       "    .dataframe tbody tr th:only-of-type {\n",
       "        vertical-align: middle;\n",
       "    }\n",
       "\n",
       "    .dataframe tbody tr th {\n",
       "        vertical-align: top;\n",
       "    }\n",
       "\n",
       "    .dataframe thead th {\n",
       "        text-align: right;\n",
       "    }\n",
       "</style>\n",
       "<table border=\"1\" class=\"dataframe\">\n",
       "  <thead>\n",
       "    <tr style=\"text-align: right;\">\n",
       "      <th></th>\n",
       "      <th>timestamp</th>\n",
       "      <th>amt</th>\n",
       "      <th>zip</th>\n",
       "      <th>lat</th>\n",
       "      <th>long</th>\n",
       "      <th>city_pop</th>\n",
       "      <th>dob</th>\n",
       "      <th>merch_lat</th>\n",
       "      <th>merch_long</th>\n",
       "      <th>is_fraud</th>\n",
       "    </tr>\n",
       "  </thead>\n",
       "  <tbody>\n",
       "    <tr>\n",
       "      <th>count</th>\n",
       "      <td>42464</td>\n",
       "      <td>42464.000000</td>\n",
       "      <td>42464.000000</td>\n",
       "      <td>42464.000000</td>\n",
       "      <td>42464.000000</td>\n",
       "      <td>4.246400e+04</td>\n",
       "      <td>42464</td>\n",
       "      <td>42464.000000</td>\n",
       "      <td>42464.000000</td>\n",
       "      <td>42464.000000</td>\n",
       "    </tr>\n",
       "    <tr>\n",
       "      <th>mean</th>\n",
       "      <td>2019-10-02 15:50:25.013799936</td>\n",
       "      <td>136.132126</td>\n",
       "      <td>46575.423370</td>\n",
       "      <td>38.595645</td>\n",
       "      <td>-88.780103</td>\n",
       "      <td>8.737273e+04</td>\n",
       "      <td>1973-03-04 11:51:47.611152992</td>\n",
       "      <td>38.601349</td>\n",
       "      <td>-88.784797</td>\n",
       "      <td>0.149845</td>\n",
       "    </tr>\n",
       "    <tr>\n",
       "      <th>min</th>\n",
       "      <td>2019-01-01 00:17:40</td>\n",
       "      <td>1.000000</td>\n",
       "      <td>1257.000000</td>\n",
       "      <td>20.027100</td>\n",
       "      <td>-155.488000</td>\n",
       "      <td>2.300000e+01</td>\n",
       "      <td>1924-10-30 00:00:00</td>\n",
       "      <td>19.399206</td>\n",
       "      <td>-156.118071</td>\n",
       "      <td>0.000000</td>\n",
       "    </tr>\n",
       "    <tr>\n",
       "      <th>25%</th>\n",
       "      <td>2019-06-02 16:48:16.750000128</td>\n",
       "      <td>11.947500</td>\n",
       "      <td>24070.000000</td>\n",
       "      <td>35.058300</td>\n",
       "      <td>-95.350900</td>\n",
       "      <td>8.040000e+02</td>\n",
       "      <td>1961-12-05 00:00:00</td>\n",
       "      <td>35.175649</td>\n",
       "      <td>-95.421944</td>\n",
       "      <td>0.000000</td>\n",
       "    </tr>\n",
       "    <tr>\n",
       "      <th>50%</th>\n",
       "      <td>2019-10-02 03:56:53</td>\n",
       "      <td>53.620000</td>\n",
       "      <td>45801.000000</td>\n",
       "      <td>39.371600</td>\n",
       "      <td>-86.545700</td>\n",
       "      <td>2.501000e+03</td>\n",
       "      <td>1974-12-24 00:00:00</td>\n",
       "      <td>39.369549</td>\n",
       "      <td>-86.605711</td>\n",
       "      <td>0.000000</td>\n",
       "    </tr>\n",
       "    <tr>\n",
       "      <th>75%</th>\n",
       "      <td>2020-01-30 21:56:41.750000128</td>\n",
       "      <td>106.400000</td>\n",
       "      <td>68463.000000</td>\n",
       "      <td>41.603000</td>\n",
       "      <td>-79.808900</td>\n",
       "      <td>1.886275e+04</td>\n",
       "      <td>1986-11-24 00:00:00</td>\n",
       "      <td>41.704286</td>\n",
       "      <td>-79.766672</td>\n",
       "      <td>0.000000</td>\n",
       "    </tr>\n",
       "    <tr>\n",
       "      <th>max</th>\n",
       "      <td>2020-06-21 11:59:45</td>\n",
       "      <td>9999.390000</td>\n",
       "      <td>99323.000000</td>\n",
       "      <td>48.887800</td>\n",
       "      <td>-67.950300</td>\n",
       "      <td>2.906700e+06</td>\n",
       "      <td>2005-01-29 00:00:00</td>\n",
       "      <td>49.116921</td>\n",
       "      <td>-67.027467</td>\n",
       "      <td>1.000000</td>\n",
       "    </tr>\n",
       "    <tr>\n",
       "      <th>std</th>\n",
       "      <td>NaN</td>\n",
       "      <td>256.452379</td>\n",
       "      <td>25996.838552</td>\n",
       "      <td>4.551974</td>\n",
       "      <td>12.375770</td>\n",
       "      <td>2.979376e+05</td>\n",
       "      <td>NaN</td>\n",
       "      <td>4.555899</td>\n",
       "      <td>12.372878</td>\n",
       "      <td>0.356923</td>\n",
       "    </tr>\n",
       "  </tbody>\n",
       "</table>\n",
       "</div>"
      ],
      "text/plain": [
       "                           timestamp           amt           zip  \\\n",
       "count                          42464  42464.000000  42464.000000   \n",
       "mean   2019-10-02 15:50:25.013799936    136.132126  46575.423370   \n",
       "min              2019-01-01 00:17:40      1.000000   1257.000000   \n",
       "25%    2019-06-02 16:48:16.750000128     11.947500  24070.000000   \n",
       "50%              2019-10-02 03:56:53     53.620000  45801.000000   \n",
       "75%    2020-01-30 21:56:41.750000128    106.400000  68463.000000   \n",
       "max              2020-06-21 11:59:45   9999.390000  99323.000000   \n",
       "std                              NaN    256.452379  25996.838552   \n",
       "\n",
       "                lat          long      city_pop  \\\n",
       "count  42464.000000  42464.000000  4.246400e+04   \n",
       "mean      38.595645    -88.780103  8.737273e+04   \n",
       "min       20.027100   -155.488000  2.300000e+01   \n",
       "25%       35.058300    -95.350900  8.040000e+02   \n",
       "50%       39.371600    -86.545700  2.501000e+03   \n",
       "75%       41.603000    -79.808900  1.886275e+04   \n",
       "max       48.887800    -67.950300  2.906700e+06   \n",
       "std        4.551974     12.375770  2.979376e+05   \n",
       "\n",
       "                                 dob     merch_lat    merch_long      is_fraud  \n",
       "count                          42464  42464.000000  42464.000000  42464.000000  \n",
       "mean   1973-03-04 11:51:47.611152992     38.601349    -88.784797      0.149845  \n",
       "min              1924-10-30 00:00:00     19.399206   -156.118071      0.000000  \n",
       "25%              1961-12-05 00:00:00     35.175649    -95.421944      0.000000  \n",
       "50%              1974-12-24 00:00:00     39.369549    -86.605711      0.000000  \n",
       "75%              1986-11-24 00:00:00     41.704286    -79.766672      0.000000  \n",
       "max              2005-01-29 00:00:00     49.116921    -67.027467      1.000000  \n",
       "std                              NaN      4.555899     12.372878      0.356923  "
      ]
     },
     "execution_count": 10,
     "metadata": {},
     "output_type": "execute_result"
    }
   ],
   "source": [
    "cc_df.describe()"
   ]
  },
  {
   "cell_type": "markdown",
   "id": "3d9367de-2746-470f-9ec0-903883241b51",
   "metadata": {},
   "source": [
    "### Amount"
   ]
  },
  {
   "cell_type": "markdown",
   "id": "d25ccd78-8983-4c81-b305-0e0e3463373c",
   "metadata": {},
   "source": [
    "Lets attempt to see if there are any patterns that revolve around the amount spent by the customer and if that transaction was fraud. \n",
    "\n",
    "My assumption would be that purchases under $100 and larger purchases have a higher tendency to be fraud. A bad actor would first test out the stolen credit card information to ensure it processes with smaller purchases before attempting a larger purchase. \n",
    "\n",
    "We can view these delineations in the columns by bucketing the amount and calculating the percentage of fraud in each category. "
   ]
  },
  {
   "cell_type": "code",
   "execution_count": 11,
   "id": "101c2a24-cb28-405d-9f47-0d52dc302b2f",
   "metadata": {},
   "outputs": [
    {
     "data": {
      "image/png": "[encoded data removed]",
      "text/plain": [
       "<Figure size 1000x600 with 1 Axes>"
      ]
     },
     "metadata": {},
     "output_type": "display_data"
    }
   ],
   "source": [
    "# Define bins for transaction amounts\n",
    "bins = [1, 50, 100, 200, 500, 1000, 2000, 5000, 10000]\n",
    "labels = ['1-50', '50-100', '100-200', '200-500', '500-1000', '1000-2000', '2000-5000', '5000-10000']\n",
    "\n",
    "# Add a new column to classify amounts into ranges\n",
    "cc_df['amt_range'] = pd.cut(cc_df['amt'], bins=bins, labels=labels)\n",
    "\n",
    "# Group by amount range and calculate the fraud rate\n",
    "fraud_rate_by_range = cc_df.groupby('amt_range')['is_fraud'].mean()\n",
    "\n",
    "# Plot the fraud rate by amount range\n",
    "plt.figure(figsize=(10, 6))\n",
    "fraud_rate_by_range.plot(kind='bar', color='red', edgecolor='black')\n",
    "plt.title('Fraud Rate by Transaction Amount Range')\n",
    "plt.xlabel('Amount Range')\n",
    "plt.ylabel('Fraud Rate')\n",
    "plt.show()"
   ]
  },
  {
   "cell_type": "markdown",
   "id": "30f7dacb-ad68-4e40-ba9a-a1efb6512c2c",
   "metadata": {},
   "source": [
    "Given that the majority of the fraudulent transactions occur inside of the 200-2000 amount, lets take a deeper look at these buckets. "
   ]
  },
  {
   "cell_type": "code",
   "execution_count": 12,
   "id": "4b337e55-5907-453b-909f-2a45b9e78889",
   "metadata": {},
   "outputs": [
    {
     "data": {
      "image/png": "[encoded data removed]",
      "text/plain": [
       "<Figure size 1200x600 with 1 Axes>"
      ]
     },
     "metadata": {},
     "output_type": "display_data"
    }
   ],
   "source": [
    "# Define finer bins within the ranges\n",
    "expanded_bins = [200, 300, 400, 500, 600, 700, 800, 900, 1000, 1200, 1400, 1600, 1800, 2000]\n",
    "expanded_labels = ['200-300', '300-400', '400-500', '500-600', '600-700', '700-800', '800-900', '900-1000', '1000-1200', '1200-1400', '1400-1600', '1600-1800', '1800-2000']\n",
    "\n",
    "# Add a new column to classify amounts into the expanded ranges\n",
    "cc_df['expanded_amt_range'] = pd.cut(cc_df['amt'], bins=expanded_bins, labels=expanded_labels)\n",
    "\n",
    "# Group by the new range column and calculate the fraud rate\n",
    "expanded_fraud_rate_by_range = cc_df.groupby('expanded_amt_range')['is_fraud'].mean()\n",
    "\n",
    "# Plot the expanded fraud rate by amount range\n",
    "plt.figure(figsize=(12, 6))\n",
    "expanded_fraud_rate_by_range.plot(kind='bar', color= 'red', edgecolor='black')\n",
    "plt.title('Fraud Rate by Expanded Transaction Amount Range')\n",
    "plt.xlabel('Amount Range')\n",
    "plt.ylabel('Fraud Rate')\n",
    "plt.show()"
   ]
  },
  {
   "cell_type": "code",
   "execution_count": 13,
   "id": "a9b08080-00e8-43b7-b7f3-35373d6728bd",
   "metadata": {},
   "outputs": [
    {
     "data": {
      "image/png": "[encoded data removed]",
      "text/plain": [
       "<Figure size 1200x600 with 1 Axes>"
      ]
     },
     "metadata": {},
     "output_type": "display_data"
    }
   ],
   "source": [
    "# Filter transactions within the specific ranges from cc_df\n",
    "fraud_200_500 = cc_df[(cc_df['amt'] >= 200) & (cc_df['amt'] < 500) & (cc_df['is_fraud'] == 1)]\n",
    "fraud_500_1000 = cc_df[(cc_df['amt'] >= 500) & (cc_df['amt'] < 1000) & (cc_df['is_fraud'] == 1)]\n",
    "fraud_1000_2000 = cc_df[(cc_df['amt'] >= 1000) & (cc_df['amt'] < 2000) & (cc_df['is_fraud'] == 1)]\n",
    "\n",
    "# Plotting\n",
    "plt.figure(figsize=(12, 6))\n",
    "\n",
    "# Histogram for fraudulent transactions within $200-$500 range\n",
    "plt.hist(fraud_200_500['amt'], bins=10, color='red', alpha=0.6, label='$200-500', edgecolor='black')\n",
    "\n",
    "# Histogram for fraudulent transactions within $500-$1000 range\n",
    "plt.hist(fraud_500_1000['amt'], bins=10, color='blue', alpha=0.6, label='$500-1000', edgecolor='black')\n",
    "\n",
    "# Histogram for fraudulent transactions within $1000-$2000 range\n",
    "plt.hist(fraud_1000_2000['amt'], bins=10, color='green', alpha=0.6, label='$1000-2000', edgecolor='black')\n",
    "\n",
    "plt.title('Histogram of Fraudulent Transactions by Amount Range')\n",
    "plt.xlabel('Transaction Amount ($)')\n",
    "plt.ylabel('Frequency')\n",
    "plt.legend()\n",
    "plt.show()\n"
   ]
  },
  {
   "cell_type": "markdown",
   "id": "285f7148-9a81-4f52-83e9-2272ed4eec1e",
   "metadata": {},
   "source": [
    "### Timestamp"
   ]
  },
  {
   "cell_type": "markdown",
   "id": "b4eda805-6b27-4c9c-a547-0189f7172ec8",
   "metadata": {},
   "source": [
    "When the fraudulent transactions occur could contain valuable information for the models. As such, lets expand out the timestamp to provide more information. "
   ]
  },
  {
   "cell_type": "code",
   "execution_count": 14,
   "id": "92a98a28-1df0-4304-95a1-32ccc54a63cb",
   "metadata": {},
   "outputs": [],
   "source": [
    "# Expand the timestamp column\n",
    "cc_df['hour'] = cc_df['timestamp'].dt.hour\n",
    "cc_df['day_of_week'] = cc_df['timestamp'].dt.dayofweek\n",
    "cc_df['month'] = cc_df['timestamp'].dt.month\n",
    "cc_df['is_weekend'] = cc_df['timestamp'].dt.dayofweek >= 5\n",
    "\n",
    "# Create time of day categories\n",
    "def categorize_time_of_day(hour):\n",
    "    if 0 <= hour < 6:\n",
    "        return 'night'\n",
    "    elif 6 <= hour < 12:\n",
    "        return 'morning'\n",
    "    elif 12 <= hour < 18:\n",
    "        return 'afternoon'\n",
    "    else:\n",
    "        return 'evening'\n",
    "\n",
    "cc_df['time_of_day'] = cc_df['hour'].apply(categorize_time_of_day)\n",
    "\n",
    "# Drop the original timestamp if not needed\n",
    "cc_df.drop(columns=['timestamp'], inplace=True)"
   ]
  },
  {
   "cell_type": "markdown",
   "id": "fc4d588e-c425-4159-ae51-cce02084d3a1",
   "metadata": {},
   "source": [
    "### Customer and Merchant Longitude and Latitude"
   ]
  },
  {
   "cell_type": "code",
   "execution_count": 15,
   "id": "d5b241c2-f198-4269-a4b2-2989d2e4d0bc",
   "metadata": {},
   "outputs": [],
   "source": [
    "# Calculate distance feature\n",
    "def calculate_distance(row):\n",
    "    transaction_location = (row['lat'], row['long'])\n",
    "    merchant_location = (row['merch_lat'], row['merch_long'])\n",
    "    return great_circle(transaction_location, merchant_location).miles\n",
    "\n",
    "# Apply distance calculation\n",
    "cc_df['distance_to_merchant'] = cc_df.apply(calculate_distance, axis=1)\n",
    "\n",
    "# Drop the individual location columns\n",
    "cc_df.drop(columns=['lat', 'long', 'merch_lat', 'merch_long'], inplace=True)"
   ]
  },
  {
   "cell_type": "markdown",
   "id": "4c18958f-f764-42bd-a428-744ace4f12eb",
   "metadata": {},
   "source": [
    "While this column provides great information, it is not feasible to assume that in the real world we will have access to both the latitude and longitude coordinates of both the customer and the merchant. As such, we will drop this column."
   ]
  },
  {
   "cell_type": "code",
   "execution_count": 16,
   "id": "aa0d66c1-28e2-46e1-88bf-90d36876a5d3",
   "metadata": {},
   "outputs": [],
   "source": [
    "# Drop the column\n",
    "cc_df.drop(columns=['distance_to_merchant'], inplace=True)"
   ]
  },
  {
   "cell_type": "markdown",
   "id": "3216fd5f-7b1c-48a9-9a30-c98a58b28c97",
   "metadata": {},
   "source": [
    "## Categorical Columns"
   ]
  },
  {
   "cell_type": "markdown",
   "id": "e31421ad-0875-4518-9951-2d1313acfb1f",
   "metadata": {},
   "source": [
    "### Customer Count "
   ]
  },
  {
   "cell_type": "code",
   "execution_count": 17,
   "id": "eeae5e93-5eaa-4b06-86a8-70883464fa88",
   "metadata": {},
   "outputs": [
    {
     "name": "stdout",
     "output_type": "stream",
     "text": [
      "There are 980 unique customers in the dataset.\n"
     ]
    }
   ],
   "source": [
    "print(f\"There are {cc_df['cc_num'].nunique()} unique customers in the dataset.\")"
   ]
  },
  {
   "cell_type": "markdown",
   "id": "c3c2583e-e7c7-42e0-9b7c-cad61fcccb8d",
   "metadata": {},
   "source": [
    "### Merchant"
   ]
  },
  {
   "cell_type": "code",
   "execution_count": 18,
   "id": "43b66da1-3078-41dc-b4df-1dae09a56625",
   "metadata": {},
   "outputs": [
    {
     "data": {
      "text/plain": [
       "merchant\n",
       "fraud_Kilback LLC         159\n",
       "fraud_Boyer PLC           144\n",
       "fraud_Cormier LLC         142\n",
       "fraud_Kuhn LLC            123\n",
       "fraud_Schumm PLC          116\n",
       "                         ... \n",
       "fraud_Johnston-Casper      19\n",
       "fraud_Treutel-King         18\n",
       "fraud_Smitham-Schiller     18\n",
       "fraud_Bednar Inc           17\n",
       "fraud_Kris-Kertzmann       14\n",
       "Name: count, Length: 693, dtype: int64"
      ]
     },
     "execution_count": 18,
     "metadata": {},
     "output_type": "execute_result"
    }
   ],
   "source": [
    "cc_df['merchant'].value_counts()"
   ]
  },
  {
   "cell_type": "markdown",
   "id": "da51c2e5-5a1b-46b2-bf96-b10843316952",
   "metadata": {},
   "source": [
    "It appears that all of the entires begin with 'fraud_'. If they do, lets remove the extraneous wording. "
   ]
  },
  {
   "cell_type": "code",
   "execution_count": 19,
   "id": "873481bc-7bde-4cac-a295-9a2422794851",
   "metadata": {},
   "outputs": [
    {
     "name": "stdout",
     "output_type": "stream",
     "text": [
      "Do all merchants start with 'fraud_'? True\n"
     ]
    },
    {
     "data": {
      "text/plain": [
       "merchant\n",
       "Kilback LLC         159\n",
       "Boyer PLC           144\n",
       "Cormier LLC         142\n",
       "Kuhn LLC            123\n",
       "Schumm PLC          116\n",
       "                   ... \n",
       "Johnston-Casper      19\n",
       "Treutel-King         18\n",
       "Smitham-Schiller     18\n",
       "Bednar Inc           17\n",
       "Kris-Kertzmann       14\n",
       "Name: count, Length: 693, dtype: int64"
      ]
     },
     "execution_count": 19,
     "metadata": {},
     "output_type": "execute_result"
    }
   ],
   "source": [
    "# Investigate the column\n",
    "all_fraud = cc_df['merchant'].str.startswith('fraud_').all()\n",
    "print(f\"Do all merchants start with 'fraud_'? {all_fraud}\")\n",
    "\n",
    "# Remove the text at the beginning of each entry\n",
    "cc_df['merchant'] = cc_df['merchant'].str.replace('^fraud_', '', regex=True)\n",
    "\n",
    "# Check work\n",
    "cc_df['merchant'].value_counts()"
   ]
  },
  {
   "cell_type": "markdown",
   "id": "63110736-ddb0-4600-ab9f-04057fe81151",
   "metadata": {},
   "source": [
    "Given the high cardinality of the column and that there is a category column that labels the transaction in a more conventional sense, the merchant column will be dropped. \n",
    "\n",
    "If the models performance does not reach an adequate level, the inclusion of this column will be revisted. "
   ]
  },
  {
   "cell_type": "code",
   "execution_count": 20,
   "id": "90387fc1-759f-4411-9f22-292085d0091f",
   "metadata": {},
   "outputs": [],
   "source": [
    "# Drop column\n",
    "cc_df.drop(['merchant'], axis=1, inplace=True)"
   ]
  },
  {
   "cell_type": "markdown",
   "id": "a93d6338-3870-4da6-be14-67e2300f690f",
   "metadata": {},
   "source": [
    "### Category"
   ]
  },
  {
   "cell_type": "code",
   "execution_count": 21,
   "id": "a472fb12-19a3-4dc2-a0a5-914400be018e",
   "metadata": {},
   "outputs": [
    {
     "data": {
      "image/png": "[encoded data removed]",
      "text/plain": [
       "<Figure size 640x480 with 1 Axes>"
      ]
     },
     "metadata": {},
     "output_type": "display_data"
    }
   ],
   "source": [
    "# Create category counts\n",
    "category_value_counts = cc_df['category'].value_counts()\n",
    "\n",
    "# Convert the Series to a DataFrame for easier plotting\n",
    "category_df = category_value_counts.reset_index()\n",
    "category_df.columns = ['category', 'count']\n",
    "\n",
    "# Plot\n",
    "sns.barplot(x='category', y='count', data=category_df, hue='category', palette=sns.color_palette(\"colorblind\"))\n",
    "plt.xticks(rotation=45, ha='right', rotation_mode='anchor')\n",
    "plt.show()"
   ]
  },
  {
   "cell_type": "markdown",
   "id": "f90a485b-50bf-4bc7-bfa6-05fa7f77a558",
   "metadata": {},
   "source": [
    "### Gender"
   ]
  },
  {
   "cell_type": "code",
   "execution_count": 22,
   "id": "3d8c28fd-504f-47fe-aa87-859911d79940",
   "metadata": {},
   "outputs": [
    {
     "data": {
      "image/png": "[encoded data removed]",
      "text/plain": [
       "<Figure size 640x480 with 1 Axes>"
      ]
     },
     "metadata": {},
     "output_type": "display_data"
    }
   ],
   "source": [
    "# Create category counts\n",
    "gender_value_counts = cc_df['gender'].value_counts()\n",
    "\n",
    "# Convert the Series to a DataFrame for easier plotting\n",
    "category_df = gender_value_counts.reset_index()\n",
    "category_df.columns = ['gender', 'count']\n",
    "\n",
    "# Plot\n",
    "sns.barplot(x='gender', y='count', data=category_df, hue='gender', palette=sns.color_palette(\"colorblind\"))\n",
    "plt.xticks(rotation=45, ha='right', rotation_mode='anchor')\n",
    "plt.show()"
   ]
  },
  {
   "cell_type": "markdown",
   "id": "c369751d-1984-450b-96d5-7f8d5116e769",
   "metadata": {},
   "source": [
    "### Job"
   ]
  },
  {
   "cell_type": "code",
   "execution_count": 23,
   "id": "b35ccaa5-db5b-4da8-a949-8fd7c15c6e62",
   "metadata": {},
   "outputs": [],
   "source": [
    "# Covert the rows to lowercase and remove whitespace\n",
    "cc_df['job'] = cc_df['job'].str.lower().str.strip()"
   ]
  },
  {
   "cell_type": "code",
   "execution_count": 24,
   "id": "01fd4b13-fffe-45d3-8a36-8bf4278428cc",
   "metadata": {},
   "outputs": [
    {
     "data": {
      "text/plain": [
       "job\n",
       "business and management          15614\n",
       "medical and healthcare            7531\n",
       "engineering and technology        6809\n",
       "arts, media, and design           6048\n",
       "education and research            4023\n",
       "science and environment            905\n",
       "law and public service             759\n",
       "agriculture and rural affairs      236\n",
       "transportation and logistics       118\n",
       "tourism officer                     95\n",
       "retail buyer                        65\n",
       "advertising account executive       62\n",
       "airline pilot                       59\n",
       "barista                             53\n",
       "company secretary                   47\n",
       "air traffic controller              16\n",
       "hotel manager                       14\n",
       "catering manager                    10\n",
       "Name: count, dtype: int64"
      ]
     },
     "execution_count": 24,
     "metadata": {},
     "output_type": "execute_result"
    }
   ],
   "source": [
    "# Define a mapping for collapsing job titles with unique titles\n",
    "job_mapping = {\n",
    "    # Engineering and Technology\n",
    "    'engineering and technology': [\n",
    "        'engineer', 'technical', 'aeronautical engineer', 'biomedical engineer', 'engineering geologist',\n",
    "        'environmental engineer', 'it consultant', 'multimedia programmer', 'programmer', 'technology',\n",
    "        'electronics engineer', 'naval architect', 'materials engineer', 'mining engineer', 'mechanical engineer',\n",
    "        'chemical engineer', 'energy engineer', 'electrical engineer', 'drilling engineer', 'production engineer',\n",
    "        'engineer, broadcasting (operations)', 'maintenance engineer', 'structural engineer', 'water engineer',\n",
    "        'petroleum engineer', 'hydrologist', 'systems analyst', 'manufacturing systems engineer', 'building services engineer',\n",
    "        'civil engineer, contracting', 'communications engineer', 'engineer, automotive', 'engineer, control and instrumentation',\n",
    "        'physiotherapist', 'engineer, production', 'engineer, biomedical', 'engineer, mining', 'technical brewer', \n",
    "        'manufacturing engineer', 'engineer, electronics', 'engineer, petroleum', 'engineer, agricultural', 'engineer, land',\n",
    "        'engineer, aeronautical', 'engineer, civil (contracting)', 'control and instrumentation engineer', 'network engineer',\n",
    "        'broadcast engineer', 'data scientist', 'applications developer', 'programmer, multimedia', 'programmer, applications',\n",
    "        'technical sales engineer', 'telecommunications researcher', 'industrial/product designer', 'seismic interpreter',\n",
    "        'environmental health practitioner', 'software engineer', 'site engineer', 'make', 'metallurgist',\n",
    "        'product/process development scientist', 'engineer, technical sales', 'engineer, communications', 'designer, multimedia',\n",
    "        'garment/textile technologist', 'mudlogger', 'pilot, airline', 'contractor', 'energy manager', 'database administrator',\n",
    "        'geophysicist/field seismologist', 'armed forces logistics/support/administrative officer', 'intelligence analyst',\n",
    "        'architectural technologist', 'design engineer', 'armed forces technical officer', 'contracting civil engineer',\n",
    "    ],\n",
    "    \n",
    "    # Medical and Healthcare\n",
    "    'medical and healthcare': [\n",
    "        'medical professional', 'psychologist', 'psychotherapist', 'psychotherapist, child', 'psychologist, clinical',\n",
    "        'psychiatrist', 'radiographer, diagnostic', 'radiographer, therapeutic', 'physiological scientist', 'health physicist',\n",
    "        'medical physicist', 'occupational therapist', 'counsellor', 'therapist', 'nutritionist', 'pharmacologist', 'paramedic',\n",
    "        'pathologist', 'immunologist', 'podiatrist', 'chiropodist', 'dance movement psychotherapist', 'hospital doctor',\n",
    "        'scientist, audiological', 'toxicologist', 'private music teacher', 'forensic psychologist', 'child psychotherapist',\n",
    "        'learning disability nurse', 'dispensing optician', 'health and safety adviser', 'mental health nurse', 'phytotherapist',\n",
    "        'biomedical scientist', 'community pharmacist', 'nutritional therapist', 'clinical research associate', 'clinical biochemist',\n",
    "        'osteopath', 'orthoptist', 'medical technical officer', 'veterinary surgeon', 'psychologist, forensic', 'surgeon',\n",
    "        'exercise physiologist', 'occupational psychologist', 'medical sales representative', 'cytogeneticist', 'occupational hygienist',\n",
    "        'counselling psychologist', 'psychologist, counselling', 'fisheries officer', 'physiotherapist', 'psychologist, sport and exercise',\n",
    "        'pharmacist, community', 'psychiatric nurse', 'doctor, general practice', 'nurse, children\\'s', 'paediatric nurse',\n",
    "        'therapist, occupational', 'medical secretary', 'diagnostic radiographer', 'therapist, sports', 'therapist, drama',\n",
    "        'therapist, horticultural', 'therapist, music', 'oncologist', 'embryologist, clinical', 'neurosurgeon', 'pharmacist, hospital',\n",
    "        'optometrist', 'health visitor', 'clinical psychologist', 'herbalist', 'acupuncturist', 'homeopath', 'animal nutritionist',\n",
    "        'general practice doctor', 'doctor, hospital', 'hospital pharmacist', 'nurse, mental health', 'therapist, art',\n",
    "        'health promotion specialist', 'counselling psychologist', 'clinical psychologist', 'animal technologist',\n",
    "        'horticultural therapist', 'sport and exercise psychologist', 'ambulance person',\n",
    "    ],\n",
    "    \n",
    "    # Education and Research\n",
    "    'education and research': [\n",
    "        'teacher', 'lecturer', 'research scientist', 'academic librarian', 'educator', 'education officer', \n",
    "        'training and development officer', 'higher education careers adviser', 'secondary school teacher', 'early years teacher',\n",
    "        'further education lecturer', 'learning mentor', 'science writer', 'outdoor activities/education manager',\n",
    "        'archaeologist', 'assistant professor', 'professor emeritus', 'conservator, museum/gallery', 'museum/gallery exhibitions officer',\n",
    "        'librarian, academic', 'teacher, special educational needs', 'education officer, museum', 'research scientist (physical sciences)',\n",
    "        'education officer, community', 'research officer, trade union', 'research officer, political party', 'museum education officer',\n",
    "        'educational psychologist', 'associate professor', 'tefl teacher', 'english as a second language teacher',\n",
    "        'english as a foreign language teacher', 'private music teacher', 'sub', 'librarian, public', 'special educational needs teacher',\n",
    "        'teacher, early years/pre', 'teacher, secondary school', 'teacher, english as a foreign language', 'lecturer, higher education',\n",
    "        'education administrator', 'teaching laboratory technician', 'community education officer', 'primary school teacher',\n",
    "        'teacher, adult education', 'researcher', 'curriculum developer', 'higher education administrator', 'program evaluator',\n",
    "        'academic advisor', 'education policy analyst', 'training and development manager', 'instructional designer',\n",
    "        'careers information officer', 'programme researcher, broadcasting/film/video', 'field trials officer',\n",
    "        'armed forces training and education officer', 'administrator, education', 'special educational needs teacher',\n",
    "        'social researcher', 'lexicographer', 'herpetologist', 'archivist', 'careers adviser', 'interpreter'\n",
    "    ],\n",
    "    \n",
    "    # Arts, Media, and Design\n",
    "    'arts, media, and design': [\n",
    "        'designer', 'artist', 'media planner', 'advertising account planner', 'copywriter, advertising', 'journalist',\n",
    "        'film/video editor', 'radio producer', 'television/film/video producer', 'music tutor', 'art therapist',\n",
    "        'designer, television/film set', 'print designer', 'multimedia artist', 'exhibition designer', 'magazine features editor',\n",
    "        'clothing/textile technologist', 'musician', 'producer, television/film/video', 'photographer', 'video editor',\n",
    "        'stage manager', 'producer, radio', 'radio broadcast assistant', 'television production assistant', 'press photographer',\n",
    "        'broadcast presenter', 'camera operator', 'set designer', 'theatre manager', 'theatre director', 'curator',\n",
    "        'press photographer', 'television floor manager', 'exhibitions officer, museum/gallery', 'editor, commissioning',\n",
    "        'editor, film/video', 'production assistant, radio', 'media buyer', 'music therapist', 'interior and spatial designer',\n",
    "        'textile designer', 'glass blower/designer', 'arts development officer', 'community arts worker', 'designer, ceramics/pottery',\n",
    "        'fine artist', 'designer, industrial/product', 'designer, exhibition/display', 'designer, jewellery', 'copy',\n",
    "        'designer, furniture', 'designer, interior/spatial', 'animator', 'illustrator', 'special effects artist',\n",
    "        'art gallery manager', 'visual merchandiser', 'gaffer', 'colour technologist', 'bookseller', 'magazine journalist',\n",
    "        'editor, magazine features', 'programmer, multimedia', 'product designer', 'fashion designer', 'jewellery designer',\n",
    "        'environmental education officer', 'writer', 'ceramics designer', 'architect', 'presenter, broadcasting',\n",
    "        'conservator, furniture', 'broadcast journalist',\n",
    "    ],\n",
    "    \n",
    "    # Business and Management\n",
    "    'business and management': [\n",
    "        'chief executive officer', 'chief financial officer', 'chief operating officer', 'chief technology officer',\n",
    "        'chief strategy officer', 'manager', 'business consultant', 'management consultant', 'sales professional',\n",
    "        'marketing', 'public relations', 'human resources officer', 'operations manager', 'executive', 'facilities manager',\n",
    "        'purchasing manager', 'product manager', 'chief marketing officer', 'call centre manager', 'buyer, industrial',\n",
    "        'consulting and advisory', 'production manager', 'sales executive', 'sales professional, it', 'health service manager',\n",
    "        'systems developer', 'it trainer', 'business analyst', 'public relations account executive', 'retail merchandiser',\n",
    "        'retail manager', 'logistics and distribution manager', 'charity fundraiser', 'human resources consultant',\n",
    "        'commercial manager', 'marketing executive', 'sales promotion account executive', 'business development manager',\n",
    "        'project manager', 'account manager', 'hr manager', 'business owner', 'management accountant', 'financial planner',\n",
    "        'investment banker', 'investment analyst', 'accountant', 'credit controller', 'mortgage adviser', 'treasury analyst',\n",
    "        'real estate agent', 'stockbroker', 'business adviser', 'company director', 'trading standards officer', 'mortgage broker',\n",
    "        'business manager', 'public affairs consultant', 'external auditor', 'tax adviser', 'accounting technician',\n",
    "        'non-profit manager', 'campaign manager', 'marketing manager', 'accountancy manager', 'management analyst',\n",
    "        'strategic planner', 'business development executive', 'director, corporate affairs', 'director, marketing',\n",
    "        'business intelligence analyst', 'business operations manager', 'commercial director', 'communications manager',\n",
    "        'director of operations', 'financial analyst', 'insurance underwriter', 'management consultant',\n",
    "        'financial adviser', 'chartered public finance accountant', 'quantity surveyor', 'surveyor, land/geomatics',\n",
    "        'prison officer', 'pensions consultant', 'comptroller', 'land/geomatics surveyor', 'race relations officer',\n",
    "        'financial trader', 'building surveyor', 'scientist, research (maths)', 'scientist, marine', 'claims inspector/assessor',\n",
    "        'scientist, biomedical', 'senior tax professional/tax inspector', 'dealer', 'development worker, community',\n",
    "        'operations geologist', 'barrister\\'s clerk', 'geoscientist', 'lecturer, further education', 'historic buildings inspector/conservation officer',\n",
    "        'chartered loss adjuster', 'travel agency manager', 'commercial/residential surveyor', 'tree surgeon', 'futures trader',\n",
    "        'development worker, international aid', 'tax inspector', 'journalist, newspaper', 'heritage manager', 'press sub',\n",
    "        'fitness centre manager', 'amenity horticulturist', 'administrator', 'equality and diversity officer', 'physicist, medical',\n",
    "        'commercial horticulturist', 'insurance risk surveyor', 'advice worker', 'building control surveyor', 'risk analyst',\n",
    "        'wellsite geologist', 'tourist information centre manager', 'leisure centre manager', 'politician\\'s assistant',\n",
    "        'waste management officer', 'secretary/administrator', 'administrator, local government', 'trade mark attorney',\n",
    "        'investment banker, corporate', 'arboriculturist', 'museum/gallery conservator', 'statistician', 'surveyor, minerals',\n",
    "        'geologist, wellsite', 'optician, dispensing', 'administrator, charities/voluntary organisations', 'furniture designer',\n",
    "        'sports development officer', 'patent attorney', 'market researcher', 'farm manager', 'research scientist (life sciences)',\n",
    "        'operational researcher', 'land', 'warden/ranger', 'regulatory affairs officer', 'aid worker', 'landscape architect',\n",
    "        'web designer', 'insurance broker', 'accountant, chartered public finance', 'pension scheme manager', 'research scientist (maths)',\n",
    "        'surveyor, rural practice', 'surveyor, mining', 'theme park manager', 'retail banker', 'scientist, research (physical sciences)',\n",
    "        'conservation officer, historic buildings', 'equities trader', 'emergency planning/management officer', 'field seismologist',\n",
    "        'corporate investment banker', 'geologist, engineering', 'licensed conveyancer', 'cartographer', 'scientist, physiological',\n",
    "        'records manager', 'rural practice surveyor', 'planning and development surveyor', 'chartered accountant', 'quarry manager',\n",
    "        'town planner', 'horticulturist, commercial', 'insurance claims handler', 'advertising copywriter', 'volunteer coordinator',\n",
    "        'furniture conservator/restorer', 'public house manager', 'sports administrator', 'civil service fast streamer', 'designer, textile',\n",
    "        'event organiser', 'community development worker', 'hydrographic surveyor', 'commissioning editor', 'air broker', 'cabin crew',\n",
    "        'engineer, drilling', 'engineer, building services', 'biochemist, clinical', 'economist', 'engineer, maintenance',\n",
    "        'plant breeder/geneticist', 'chartered legal executive (england and wales)', 'chief of staff', 'information systems manager',\n",
    "        'engineer, manufacturing', 'scientist, clinical (histocompatibility and immunogenetics)', 'social research officer, government',\n",
    "        'minerals surveyor', 'scientist, research (medical)', 'research scientist (medical)', 'analytical chemist', 'clinical cytogeneticist',\n",
    "        'chemist, analytical', 'loss adjuster, chartered', 'teacher, primary school', 'production assistant, television',\n",
    "        'horticultural consultant', 'engineer, materials', 'air cabin crew', 'investment banker, operational',\n",
    "        'civil service administrator', 'solicitor, scotland', 'public librarian', 'restaurant manager, fast food',\n",
    "        'geneticist, molecular', 'estate manager/land agent', 'water quality scientist', 'surveyor, hydrographic', 'dancer',\n",
    "        'television camera operator', 'accountant, chartered certified', 'tour manager', 'nature conservation officer',\n",
    "        'personnel officer', 'administrator, arts', 'local government officer', 'engineer, structural', 'buyer, retail',\n",
    "        'engineer, site', 'location manager', 'information officer', 'merchandiser, retail', 'industrial buyer', 'ship broker',\n",
    "        'forest/woodland manager', 'accountant, chartered'\n",
    "    ],\n",
    "    \n",
    "    # Law and Public Service\n",
    "    'law and public service': [\n",
    "        'lawyer', 'solicitor', 'barrister', 'legal executive', 'paralegal', 'legal secretary', 'notary public',\n",
    "        'probate practitioner', 'conveyancer', 'legal adviser', 'police officer', 'firefighter', 'paramedic', 'social worker',\n",
    "        'probation officer', 'criminologist', 'community support worker', 'coroner', 'legal advisor', 'court usher', 'diplomat',\n",
    "        'human rights officer', 'immigration officer', 'military officer', 'intelligence officer', 'government administrator',\n",
    "        'policy analyst', 'legal consultant', 'legal researcher', 'environmental health officer', 'charity officer',\n",
    "        'emergency planning officer', 'armed forces', 'political researcher', 'researcher, policy', 'public affairs officer',\n",
    "        'advocate', 'community safety officer', 'law enforcement officer', 'social services manager', 'public services manager',\n",
    "        'community worker', 'legal compliance officer', 'adviser, business', 'investigator', 'public relations officer',\n",
    "        'tax adviser', 'trade union representative', 'public policy consultant', 'caseworker', 'data protection officer',\n",
    "        'civil service', 'foreign service officer', 'human resources officer', 'court clerk', 'legislative assistant',\n",
    "        'nonprofit administrator', 'social care worker', 'public health inspector', 'social researcher', 'court interpreter',\n",
    "        'social welfare officer', 'regulatory affairs specialist', 'senior policy advisor', 'legal assistant', 'tax consultant',\n",
    "        'legal analyst', 'compliance officer', 'charity fundraiser', 'victim support officer', 'police investigator',\n",
    "        'court reporter', 'forensic accountant', 'legal administrator', 'legal officer', 'compliance manager', 'community organizer',\n",
    "        'political adviser', 'social justice advocate', 'human resources manager', 'regulatory officer'\n",
    "    ],\n",
    "    \n",
    "    # Science and Environment\n",
    "    'science and environment': [\n",
    "        'scientist', 'environmental scientist', 'biologist', 'ecologist', 'geologist', 'chemist', 'physicist', 'climatologist',\n",
    "        'meteorologist', 'marine biologist', 'zoologist', 'environmental consultant', 'conservationist', 'research scientist',\n",
    "        'environmental engineer', 'wildlife biologist', 'forensic scientist', 'hydrologist', 'astrobiologist', 'geochemist',\n",
    "        'oceanographer', 'environmental educator', 'biochemist', 'environmental policy analyst', 'environmental health specialist',\n",
    "        'environmental protection officer', 'environmental compliance specialist', 'earth scientist', 'toxicologist',\n",
    "        'forensic ecologist', 'environmental risk assessor', 'environmental manager', 'science communicator', 'nature reserve manager',\n",
    "        'agronomist', 'environmental researcher', 'sustainable development consultant', 'geophysicist', 'scientific researcher',\n",
    "        'agriculture consultant', 'forestry officer', 'environmental analyst', 'climate scientist', 'wildlife conservationist',\n",
    "        'environmental microbiologist', 'environmental geologist', 'renewable energy consultant', 'agricultural scientist',\n",
    "        'environmental technician', 'sustainable energy specialist', 'science educator', 'aquatic biologist', 'applied scientist',\n",
    "        'soil scientist', 'biodiversity officer', 'scientific advisor', 'scientific policy advisor', 'research and development scientist',\n",
    "        'field biologist', 'geotechnical engineer', 'climate change analyst', 'sustainability consultant', 'environmental field officer',\n",
    "        'natural resource manager', 'biological technician', 'environmental health scientist', 'energy auditor', 'environmental compliance officer',\n",
    "        'marine scientist', 'conservation scientist', 'environmental assessment specialist', 'hydrogeologist', 'scientific laboratory technician',\n",
    "        'urban planner', 'conservation biologist', 'waste management specialist', 'audiological scientist', 'operations geologist',\n",
    "    ],\n",
    "    \n",
    "    # Transportation and Logistics\n",
    "    'transportation and logistics': [\n",
    "        'logistics manager', 'transport planner', 'supply chain manager', 'transportation coordinator', 'freight forwarder',\n",
    "        'shipment coordinator', 'distribution manager', 'traffic engineer', 'warehouse manager', 'delivery driver',\n",
    "        'logistics coordinator', 'transport operator', 'road transport manager', 'air cargo agent', 'sea freight coordinator',\n",
    "        'logistics analyst', 'import/export coordinator', 'fleet manager', 'route planner', 'transport manager', 'cargo handler',\n",
    "        'supply chain analyst', 'shipping manager', 'inventory manager', 'logistics consultant', 'transportation specialist',\n",
    "        'logistics director', 'supply chain director', 'transportation analyst', 'transport operations manager', 'logistics technician',\n",
    "        'transportation planner', 'transportation manager', 'logistics support officer', 'warehouse operative', 'transit coordinator',\n",
    "        'shipping coordinator', 'distribution coordinator', 'supply chain consultant', 'traffic manager', 'freight manager',\n",
    "        'airline operations manager', 'railway manager', 'logistics project manager', 'warehouse supervisor', 'transit planner',\n",
    "        'import/export manager', 'logistics executive', 'supply chain executive', 'fleet coordinator', 'transportation coordinator',\n",
    "        'traffic coordinator', 'road transport coordinator', 'port operations manager', 'sea cargo agent', 'air freight manager',\n",
    "        'transportation operations coordinator', 'rail transport manager', 'distribution executive', 'transportation supervisor',\n",
    "    ],\n",
    "    \n",
    "    # Agriculture and Rural Affairs\n",
    "    'agriculture and rural affairs': [\n",
    "        'farmer', 'agricultural consultant', 'farm manager', 'agricultural engineer', 'agronomist', 'landscaper', 'horticulturalist',\n",
    "        'forester', 'land agent', 'agriculture adviser', 'veterinary surgeon', 'animal husbandry', 'plant breeder', 'soil scientist',\n",
    "        'rural surveyor', 'veterinary technician', 'crop scientist', 'animal nutritionist', 'organic farmer', 'agricultural scientist',\n",
    "        'environmental scientist', 'rural development officer', 'poultry farmer', 'dairy farmer', 'crop consultant', 'landscape architect',\n",
    "        'agriculture technician', 'rural affairs consultant', 'fisheries officer', 'forestry consultant', 'land management officer',\n",
    "        'arborist', 'agricultural project manager', 'rural planner', 'horticulture manager', 'animal care technician', 'plant pathologist',\n",
    "        'livestock manager', 'sustainable agriculture consultant', 'pest control advisor', 'land use planner', 'organic agriculture consultant',\n",
    "        'rural support officer', 'farm worker', 'agricultural educator', 'sustainable land manager', 'aquaculture manager',\n",
    "        'soil conservationist', 'agriculture policy advisor', 'organic horticulturist', 'plant scientist', 'livestock advisor',\n",
    "        'animal behaviorist', 'rural business manager', 'farm consultant', 'agriculture researcher', 'plant protection advisor',\n",
    "    ],\n",
    "    \n",
    "    # Construction and Architecture\n",
    "    'construction and architecture': [\n",
    "        'architect', 'construction manager', 'building surveyor', 'quantity surveyor', 'civil engineer', 'site manager',\n",
    "        'project manager', 'structural engineer', 'quantity surveyor', 'building services engineer', 'architectural technician',\n",
    "        'urban planner', 'interior designer', 'landscape architect', 'contractor', 'construction estimator', 'construction project manager',\n",
    "        'building inspector', 'construction engineer', 'design engineer', 'site engineer', 'construction consultant', 'architectural designer',\n",
    "        'building control officer', 'surveyor', 'project architect', 'construction supervisor', 'project coordinator', 'draftsman',\n",
    "        'structural draughtsperson', 'landscaping contractor', 'architectural assistant', 'urban designer', 'construction technician',\n",
    "        'design and build manager', 'facilities manager', 'building conservationist', 'site supervisor', 'property manager',\n",
    "        'construction director', 'building manager', 'architectural technologist', 'land surveyor', 'building project manager',\n",
    "        'interior architect', 'development manager', 'residential surveyor', 'commercial surveyor', 'architectural project manager',\n",
    "        'construction consultant', 'project estimator', 'architectural project coordinator', 'building surveyor', 'commercial property manager',\n",
    "        'construction design manager', 'site coordinator', 'civil engineering technician', 'structural project manager', 'quantity surveyor',\n",
    "    ]\n",
    "}\n",
    "\n",
    "# Function to map old job titles to new categories\n",
    "def collapse_jobs(job_title):\n",
    "    for category, titles in job_mapping.items():\n",
    "        if job_title in titles:\n",
    "            return category\n",
    "    return job_title  # Return the original title if no match is found\n",
    "\n",
    "# Apply the function to the 'job' column\n",
    "cc_df['job'] = cc_df['job'].apply(collapse_jobs)\n",
    "\n",
    "# Confirm actions have condensed the column rows\n",
    "cc_df['job'].value_counts()"
   ]
  },
  {
   "cell_type": "code",
   "execution_count": 25,
   "id": "9ecbded7-b6f2-4ff1-8714-04eef080faae",
   "metadata": {},
   "outputs": [
    {
     "data": {
      "image/png": "[encoded data removed]",
      "text/plain": [
       "<Figure size 640x480 with 1 Axes>"
      ]
     },
     "metadata": {},
     "output_type": "display_data"
    }
   ],
   "source": [
    "# Create category counts\n",
    "job_value_counts = cc_df['job'].value_counts().head(20)\n",
    "\n",
    "# Convert the Series to a DataFrame for easier plotting\n",
    "category_df = job_value_counts.reset_index()\n",
    "category_df.columns = ['job', 'count']\n",
    "\n",
    "# Plot\n",
    "sns.barplot(x='job', y='count', data=category_df, hue='job', palette=sns.color_palette(\"colorblind\"))\n",
    "plt.xticks(rotation=45, ha='right', rotation_mode='anchor')\n",
    "plt.show()"
   ]
  },
  {
   "cell_type": "markdown",
   "id": "6a44b041-8526-4603-872e-5f435f0e09a6",
   "metadata": {},
   "source": [
    "### DOB"
   ]
  },
  {
   "cell_type": "markdown",
   "id": "01825ce0-8c87-4426-b970-4183d96d56ef",
   "metadata": {},
   "source": [
    "It would be nice if we were able to see the age of the user as well as what generation they belong in. Seeing this could help to see if there are different spending habits amongst the users. "
   ]
  },
  {
   "cell_type": "code",
   "execution_count": 26,
   "id": "c26a8ab1-6fee-4ae6-867e-1d886db3704e",
   "metadata": {},
   "outputs": [],
   "source": [
    "# Calculate age\n",
    "cc_df['age'] = datetime.now().year - cc_df['dob'].dt.year"
   ]
  },
  {
   "cell_type": "code",
   "execution_count": 27,
   "id": "5bc7fc08-15dc-4884-814e-b34f71a45231",
   "metadata": {},
   "outputs": [],
   "source": [
    "# Create a function to define age groups\n",
    "def age_group(age):\n",
    "    if age < 10:\n",
    "        return 'Gen Alpha'\n",
    "    elif age < 26:\n",
    "        return 'Gen Z'\n",
    "    elif age < 42:\n",
    "        return 'Millennial'\n",
    "    elif age < 58:\n",
    "        return 'Gen X'\n",
    "    elif age < 77:\n",
    "        return 'Baby Boomer'\n",
    "    else:\n",
    "        return 'Silent Generation'\n",
    "\n",
    "# Apply the function\n",
    "cc_df['age_group'] = cc_df['age'].apply(age_group)"
   ]
  },
  {
   "cell_type": "code",
   "execution_count": 28,
   "id": "9fe05c69-1085-4ed0-983f-c16eaee80140",
   "metadata": {},
   "outputs": [
    {
     "data": {
      "image/png": "[encoded data removed]",
      "text/plain": [
       "<Figure size 640x480 with 1 Axes>"
      ]
     },
     "metadata": {},
     "output_type": "display_data"
    }
   ],
   "source": [
    "# Aggregate data by cc_num to get unique users\n",
    "unique_users = cc_df.drop_duplicates(subset=['cc_num'])\n",
    "\n",
    "# Create category counts based on unique users\n",
    "age_group_value_counts = unique_users['age_group'].value_counts()\n",
    "\n",
    "# Convert the Series to a DataFrame for easier plotting\n",
    "category_df = age_group_value_counts.reset_index()\n",
    "category_df.columns = ['age_group', 'count']\n",
    "\n",
    "# Plot\n",
    "sns.barplot(x='age_group', y='count', data=category_df, hue='age_group', palette=sns.color_palette(\"colorblind\"))\n",
    "plt.xticks(rotation=45, ha='right', rotation_mode='anchor')\n",
    "plt.show()"
   ]
  },
  {
   "cell_type": "markdown",
   "id": "94a60639-ebfc-4a52-95ee-4f073d808475",
   "metadata": {},
   "source": [
    "## MultiColinearity Checks"
   ]
  },
  {
   "cell_type": "markdown",
   "id": "1cb5bb21-fbfd-45de-a443-4d0964e82ec5",
   "metadata": {},
   "source": [
    "Inside of the dataset, there are multiple columns that are duplicates of each other. Including all of the features will lead to multicolinearity and as such, this needs to be addressed. \n",
    "\n",
    "Duplicate columns:\n",
    "- locations (customer and merchant)\n",
    "    - street, city, zip\n",
    "- age\n",
    "    - dob, age, age_group\n",
    "\n",
    "Additionally, there are columns that will not provide useful information to the models. \n",
    "\n",
    "- customer name\n",
    "    - first, last\n",
    "- transaction number\n",
    "\n",
    "Lets determine how correlated the features are to each other. "
   ]
  },
  {
   "cell_type": "markdown",
   "id": "25090a9e-4fee-447a-9bb2-8f8fc11107f9",
   "metadata": {},
   "source": [
    "### Numeric Columns"
   ]
  },
  {
   "cell_type": "code",
   "execution_count": 29,
   "id": "4a71210d-3fbe-462a-aef7-8a10020c83b5",
   "metadata": {},
   "outputs": [],
   "source": [
    "# List of numerical columns\n",
    "numeric_features = [\n",
    "    'amt', \n",
    "    'city_pop', \n",
    "    'age', \n",
    "    'hour', \n",
    "    'day_of_week', \n",
    "    'month'\n",
    "]"
   ]
  },
  {
   "cell_type": "code",
   "execution_count": 30,
   "id": "8ff4fb1a-ccda-4df4-9562-e79377b22528",
   "metadata": {},
   "outputs": [
    {
     "data": {
      "image/png": "[encoded data removed]",
      "text/plain": [
       "<Figure size 1600x1000 with 2 Axes>"
      ]
     },
     "metadata": {},
     "output_type": "display_data"
    }
   ],
   "source": [
    "# Calculate correlation matrix\n",
    "corr_matrix = cc_df[numeric_features].corr()\n",
    "\n",
    "# Plot heatmap\n",
    "plt.figure(figsize=(16, 10))\n",
    "sns.heatmap(corr_matrix, annot=True, cmap='coolwarm')\n",
    "plt.show()"
   ]
  },
  {
   "cell_type": "markdown",
   "id": "d0c76ab0-aa57-4928-8eea-472240a095cb",
   "metadata": {},
   "source": [
    "### Categorical Columns"
   ]
  },
  {
   "cell_type": "code",
   "execution_count": 31,
   "id": "5eed925a-8a2c-412f-9ade-deda8ab61135",
   "metadata": {},
   "outputs": [
    {
     "name": "stdout",
     "output_type": "stream",
     "text": [
      "<class 'pandas.core.frame.DataFrame'>\n",
      "Index: 42464 entries, 0 to 49999\n",
      "Data columns (total 25 columns):\n",
      " #   Column              Non-Null Count  Dtype         \n",
      "---  ------              --------------  -----         \n",
      " 0   cc_num              42464 non-null  object        \n",
      " 1   category            42464 non-null  object        \n",
      " 2   amt                 42464 non-null  float64       \n",
      " 3   first               42464 non-null  object        \n",
      " 4   last                42464 non-null  object        \n",
      " 5   gender              42464 non-null  object        \n",
      " 6   street              42464 non-null  object        \n",
      " 7   city                42464 non-null  object        \n",
      " 8   state               42464 non-null  object        \n",
      " 9   zip                 42464 non-null  int64         \n",
      " 10  city_pop            42464 non-null  int64         \n",
      " 11  job                 42464 non-null  object        \n",
      " 12  dob                 42464 non-null  datetime64[ns]\n",
      " 13  trans_num           42464 non-null  object        \n",
      " 14  is_fraud            42464 non-null  int64         \n",
      " 15  merch_zipcode       42464 non-null  object        \n",
      " 16  amt_range           42460 non-null  category      \n",
      " 17  expanded_amt_range  6326 non-null   category      \n",
      " 18  hour                42464 non-null  int32         \n",
      " 19  day_of_week         42464 non-null  int32         \n",
      " 20  month               42464 non-null  int32         \n",
      " 21  is_weekend          42464 non-null  bool          \n",
      " 22  time_of_day         42464 non-null  object        \n",
      " 23  age                 42464 non-null  int32         \n",
      " 24  age_group           42464 non-null  object        \n",
      "dtypes: bool(1), category(2), datetime64[ns](1), float64(1), int32(4), int64(3), object(13)\n",
      "memory usage: 6.9+ MB\n"
     ]
    }
   ],
   "source": [
    "cc_df.info()"
   ]
  },
  {
   "cell_type": "code",
   "execution_count": 32,
   "id": "8a942681-b3b0-4662-985f-e9787e313dbf",
   "metadata": {},
   "outputs": [],
   "source": [
    "# List of categorical columns to be converted\n",
    "categorical_columns = ['category', 'gender', 'job', 'time_of_day', 'age_group']\n",
    "\n",
    "# Create dummy variables\n",
    "cc_df_dummies = pd.get_dummies(cc_df[categorical_columns], drop_first=True)"
   ]
  },
  {
   "cell_type": "code",
   "execution_count": 33,
   "id": "1ebd3ece-e336-4fd1-819c-e26578b09b60",
   "metadata": {},
   "outputs": [
    {
     "name": "stdout",
     "output_type": "stream",
     "text": [
      "No multicollinearity detected (all VIFs are less than 5).\n"
     ]
    }
   ],
   "source": [
    "# Calculate VIF for each feature\n",
    "vif_data = pd.DataFrame()\n",
    "vif_data['feature'] = cc_df_dummies.columns\n",
    "vif_data['VIF'] = [variance_inflation_factor(cc_df_dummies.values, i) for i in range(cc_df_dummies.shape[1])]\n",
    "\n",
    "# Filter features with VIF greater than 5\n",
    "high_vif_features = vif_data[vif_data['VIF'] > 5]\n",
    "\n",
    "# Print results\n",
    "if not high_vif_features.empty:\n",
    "    print(\"Features with VIF greater than 5:\")\n",
    "    print(high_vif_features)\n",
    "else:\n",
    "    print(\"No multicollinearity detected (all VIFs are less than 5).\")"
   ]
  },
  {
   "cell_type": "markdown",
   "id": "252a8b55-68eb-4327-ad2e-86bf5ce9ca87",
   "metadata": {},
   "source": [
    "# Baseline Models"
   ]
  },
  {
   "cell_type": "markdown",
   "id": "0594023d-8533-4543-8fec-df7f6e6d8cd9",
   "metadata": {},
   "source": [
    "## Define the Features "
   ]
  },
  {
   "cell_type": "markdown",
   "id": "4da29834-67e2-4ed2-ba29-5b6d6eca2574",
   "metadata": {},
   "source": [
    "Inside of the DataFrame, there are still columns that have high cardinality or that do not provide good information to the model. \n",
    "\n",
    "Lets clean up the DataFrame. "
   ]
  },
  {
   "cell_type": "code",
   "execution_count": 34,
   "id": "38ee6220-2fd7-4aeb-ba2e-587c2a3921c6",
   "metadata": {},
   "outputs": [],
   "source": [
    "model_df = cc_df.copy()"
   ]
  },
  {
   "cell_type": "code",
   "execution_count": 35,
   "id": "a4fae021-356d-4c92-8ce7-cba50d0b14c2",
   "metadata": {},
   "outputs": [],
   "source": [
    "model_df.drop(\n",
    "    [\n",
    "        'cc_num', \n",
    "        'first', \n",
    "        'last', \n",
    "        'street', \n",
    "        'city', \n",
    "        'zip', \n",
    "        'dob', \n",
    "        'trans_num', \n",
    "        'merch_zipcode', \n",
    "        'time_of_day', \n",
    "        'is_weekend'\n",
    "    ], axis=1 , inplace=True\n",
    ")"
   ]
  },
  {
   "cell_type": "code",
   "execution_count": 36,
   "id": "bb3106b1-11d1-4978-b475-e48c06dfc1b8",
   "metadata": {},
   "outputs": [
    {
     "name": "stdout",
     "output_type": "stream",
     "text": [
      "<class 'pandas.core.frame.DataFrame'>\n",
      "Index: 42464 entries, 0 to 49999\n",
      "Data columns (total 14 columns):\n",
      " #   Column              Non-Null Count  Dtype   \n",
      "---  ------              --------------  -----   \n",
      " 0   category            42464 non-null  object  \n",
      " 1   amt                 42464 non-null  float64 \n",
      " 2   gender              42464 non-null  object  \n",
      " 3   state               42464 non-null  object  \n",
      " 4   city_pop            42464 non-null  int64   \n",
      " 5   job                 42464 non-null  object  \n",
      " 6   is_fraud            42464 non-null  int64   \n",
      " 7   amt_range           42460 non-null  category\n",
      " 8   expanded_amt_range  6326 non-null   category\n",
      " 9   hour                42464 non-null  int32   \n",
      " 10  day_of_week         42464 non-null  int32   \n",
      " 11  month               42464 non-null  int32   \n",
      " 12  age                 42464 non-null  int32   \n",
      " 13  age_group           42464 non-null  object  \n",
      "dtypes: category(2), float64(1), int32(4), int64(2), object(5)\n",
      "memory usage: 3.6+ MB\n"
     ]
    }
   ],
   "source": [
    "model_df.info()"
   ]
  },
  {
   "cell_type": "code",
   "execution_count": 37,
   "id": "fa0eadbf-1213-46a8-a63c-f44a7e3435a1",
   "metadata": {},
   "outputs": [],
   "source": [
    "X = model_df.drop(['is_fraud'],axis=1)\n",
    "y = model_df['is_fraud']"
   ]
  },
  {
   "cell_type": "code",
   "execution_count": 38,
   "id": "d8b1ec59-68a0-41e6-9b27-698936f611f7",
   "metadata": {},
   "outputs": [
    {
     "data": {
      "text/html": [
       "<div>\n",
       "<style scoped>\n",
       "    .dataframe tbody tr th:only-of-type {\n",
       "        vertical-align: middle;\n",
       "    }\n",
       "\n",
       "    .dataframe tbody tr th {\n",
       "        vertical-align: top;\n",
       "    }\n",
       "\n",
       "    .dataframe thead th {\n",
       "        text-align: right;\n",
       "    }\n",
       "</style>\n",
       "<table border=\"1\" class=\"dataframe\">\n",
       "  <thead>\n",
       "    <tr style=\"text-align: right;\">\n",
       "      <th></th>\n",
       "      <th>category</th>\n",
       "      <th>amt</th>\n",
       "      <th>gender</th>\n",
       "      <th>state</th>\n",
       "      <th>city_pop</th>\n",
       "      <th>job</th>\n",
       "      <th>amt_range</th>\n",
       "      <th>expanded_amt_range</th>\n",
       "      <th>hour</th>\n",
       "      <th>day_of_week</th>\n",
       "      <th>month</th>\n",
       "      <th>age</th>\n",
       "      <th>age_group</th>\n",
       "    </tr>\n",
       "  </thead>\n",
       "  <tbody>\n",
       "    <tr>\n",
       "      <th>0</th>\n",
       "      <td>home</td>\n",
       "      <td>77.90</td>\n",
       "      <td>M</td>\n",
       "      <td>OK</td>\n",
       "      <td>1078</td>\n",
       "      <td>medical and healthcare</td>\n",
       "      <td>50-100</td>\n",
       "      <td>NaN</td>\n",
       "      <td>12</td>\n",
       "      <td>2</td>\n",
       "      <td>6</td>\n",
       "      <td>35</td>\n",
       "      <td>Millennial</td>\n",
       "    </tr>\n",
       "    <tr>\n",
       "      <th>1</th>\n",
       "      <td>health_fitness</td>\n",
       "      <td>47.78</td>\n",
       "      <td>M</td>\n",
       "      <td>MI</td>\n",
       "      <td>134056</td>\n",
       "      <td>medical and healthcare</td>\n",
       "      <td>1-50</td>\n",
       "      <td>NaN</td>\n",
       "      <td>19</td>\n",
       "      <td>5</td>\n",
       "      <td>4</td>\n",
       "      <td>44</td>\n",
       "      <td>Gen X</td>\n",
       "    </tr>\n",
       "    <tr>\n",
       "      <th>2</th>\n",
       "      <td>misc_net</td>\n",
       "      <td>690.81</td>\n",
       "      <td>M</td>\n",
       "      <td>NC</td>\n",
       "      <td>238602</td>\n",
       "      <td>business and management</td>\n",
       "      <td>500-1000</td>\n",
       "      <td>600-700</td>\n",
       "      <td>22</td>\n",
       "      <td>0</td>\n",
       "      <td>1</td>\n",
       "      <td>31</td>\n",
       "      <td>Millennial</td>\n",
       "    </tr>\n",
       "    <tr>\n",
       "      <th>3</th>\n",
       "      <td>gas_transport</td>\n",
       "      <td>65.85</td>\n",
       "      <td>M</td>\n",
       "      <td>OK</td>\n",
       "      <td>640470</td>\n",
       "      <td>business and management</td>\n",
       "      <td>50-100</td>\n",
       "      <td>NaN</td>\n",
       "      <td>9</td>\n",
       "      <td>4</td>\n",
       "      <td>8</td>\n",
       "      <td>58</td>\n",
       "      <td>Baby Boomer</td>\n",
       "    </tr>\n",
       "    <tr>\n",
       "      <th>4</th>\n",
       "      <td>shopping_net</td>\n",
       "      <td>67.11</td>\n",
       "      <td>M</td>\n",
       "      <td>OH</td>\n",
       "      <td>267</td>\n",
       "      <td>business and management</td>\n",
       "      <td>50-100</td>\n",
       "      <td>NaN</td>\n",
       "      <td>16</td>\n",
       "      <td>0</td>\n",
       "      <td>1</td>\n",
       "      <td>19</td>\n",
       "      <td>Gen Z</td>\n",
       "    </tr>\n",
       "  </tbody>\n",
       "</table>\n",
       "</div>"
      ],
      "text/plain": [
       "         category     amt gender state  city_pop                      job  \\\n",
       "0            home   77.90      M    OK      1078   medical and healthcare   \n",
       "1  health_fitness   47.78      M    MI    134056   medical and healthcare   \n",
       "2        misc_net  690.81      M    NC    238602  business and management   \n",
       "3   gas_transport   65.85      M    OK    640470  business and management   \n",
       "4    shopping_net   67.11      M    OH       267  business and management   \n",
       "\n",
       "  amt_range expanded_amt_range  hour  day_of_week  month  age    age_group  \n",
       "0    50-100                NaN    12            2      6   35   Millennial  \n",
       "1      1-50                NaN    19            5      4   44        Gen X  \n",
       "2  500-1000            600-700    22            0      1   31   Millennial  \n",
       "3    50-100                NaN     9            4      8   58  Baby Boomer  \n",
       "4    50-100                NaN    16            0      1   19        Gen Z  "
      ]
     },
     "execution_count": 38,
     "metadata": {},
     "output_type": "execute_result"
    }
   ],
   "source": [
    "X.head()"
   ]
  },
  {
   "cell_type": "code",
   "execution_count": 39,
   "id": "c5f45217-0ba8-4b49-a017-e4b97c99e3d8",
   "metadata": {},
   "outputs": [],
   "source": [
    "sampling_techniques = {\n",
    "    'oversample': RandomOverSampler(random_state=19),\n",
    "    'smote': SMOTE(random_state=19),\n",
    "    'borderline_smote': BorderlineSMOTE(random_state=19),\n",
    "    'kmeans_smote': KMeansSMOTE(random_state=19),\n",
    "    'adasyn': ADASYN(random_state=19),\n",
    "    'smote_tomek': SMOTETomek(random_state=19),\n",
    "    'smote_enn': SMOTEENN(random_state=19)\n",
    "}"
   ]
  },
  {
   "cell_type": "markdown",
   "id": "d451d069-d282-4863-82a3-12c8e8254d5b",
   "metadata": {},
   "source": [
    "## Logistic Regression"
   ]
  },
  {
   "cell_type": "code",
   "execution_count": 40,
   "id": "2d3809e6-0d85-42da-9532-6e25b09c140e",
   "metadata": {},
   "outputs": [],
   "source": [
    "log_reg_model = LogisticRegression(max_iter=1500, random_state=19)\n",
    "log_reg_param_grid = [\n",
    "    {'classifier__C': [0.1, 1], 'classifier__solver': ['liblinear'], 'classifier__penalty': ['l1', 'l2']},\n",
    "    {'classifier__C': [0.1, 1], 'classifier__solver': ['lbfgs'], 'classifier__penalty': ['l2']},\n",
    "    {'classifier__C': [0.1, 1], 'classifier__solver': ['saga'], 'classifier__penalty': ['l1', 'l2']}\n",
    "]"
   ]
  },
  {
   "cell_type": "code",
   "execution_count": 41,
   "id": "3803615f-23e7-4944-af20-177a063b704b",
   "metadata": {},
   "outputs": [
    {
     "name": "stdout",
     "output_type": "stream",
     "text": [
      "Fitting 5 folds for each of 10 candidates, totalling 50 fits\n",
      "Fitting 5 folds for each of 10 candidates, totalling 50 fits\n",
      "Fitting 5 folds for each of 10 candidates, totalling 50 fits\n",
      "Fitting 5 folds for each of 10 candidates, totalling 50 fits\n",
      "Fitting 5 folds for each of 10 candidates, totalling 50 fits\n",
      "Fitting 5 folds for each of 10 candidates, totalling 50 fits\n",
      "Fitting 5 folds for each of 10 candidates, totalling 50 fits\n"
     ]
    }
   ],
   "source": [
    "# Initialize the ModelEvaluator class\n",
    "log_reg_evaluator = ModelEvaluator(log_reg_model, log_reg_param_grid, X, y, sampling_techniques, random_state=19)\n",
    "\n",
    "# Evaluate the model across all resampled datasets\n",
    "log_reg_evaluator.evaluate()\n",
    "\n",
    "# Store the results DataFrame\n",
    "log_reg_results = log_reg_evaluator.eval_results_df"
   ]
  },
  {
   "cell_type": "markdown",
   "id": "bec478eb-6a2b-403d-8da5-f998d8b310de",
   "metadata": {},
   "source": [
    "## Decision Tree"
   ]
  },
  {
   "cell_type": "code",
   "execution_count": 42,
   "id": "d3d52b24-11c9-47bd-846a-eb92f21d4550",
   "metadata": {},
   "outputs": [],
   "source": [
    "dt_model = DecisionTreeClassifier(random_state=19)\n",
    "dt_param_grid = {\n",
    "    'classifier__criterion': ['gini', 'entropy'],  \n",
    "    'classifier__max_depth': [5, 10],\n",
    "    'classifier__min_samples_split': [2, 5, 10],\n",
    "    'classifier__min_samples_leaf': [1, 2, 4],\n",
    "}"
   ]
  },
  {
   "cell_type": "code",
   "execution_count": 43,
   "id": "658f2530-336e-4461-ac11-95b65bd08840",
   "metadata": {},
   "outputs": [
    {
     "name": "stdout",
     "output_type": "stream",
     "text": [
      "Fitting 5 folds for each of 36 candidates, totalling 180 fits\n",
      "Fitting 5 folds for each of 36 candidates, totalling 180 fits\n",
      "Fitting 5 folds for each of 36 candidates, totalling 180 fits\n",
      "Fitting 5 folds for each of 36 candidates, totalling 180 fits\n",
      "Fitting 5 folds for each of 36 candidates, totalling 180 fits\n",
      "Fitting 5 folds for each of 36 candidates, totalling 180 fits\n",
      "Fitting 5 folds for each of 36 candidates, totalling 180 fits\n"
     ]
    }
   ],
   "source": [
    "# Initialize the ModelEvaluator class\n",
    "dt_evaluator = ModelEvaluator(dt_model, dt_param_grid, X, y, sampling_techniques, random_state=19)\n",
    "\n",
    "# Evaluate the model across all resampled datasets\n",
    "dt_evaluator.evaluate()\n",
    "\n",
    "# Store the results DataFrame\n",
    "dt_results = dt_evaluator.eval_results_df"
   ]
  },
  {
   "cell_type": "markdown",
   "id": "77e7cc66-f37c-4ce5-93b2-b88a5c1f207f",
   "metadata": {},
   "source": [
    "## K-Nearest Neighbors "
   ]
  },
  {
   "cell_type": "code",
   "execution_count": 68,
   "id": "47657bce-64e2-4713-960a-c2e8f36b84b5",
   "metadata": {},
   "outputs": [],
   "source": [
    "# K-Nearest Neighbors model\n",
    "knn_model = KNeighborsClassifier()\n",
    "\n",
    "# Parameter grid for KNeighborsClassifier\n",
    "knn_param_grid = {\n",
    "    'classifier__n_neighbors': [3, 5, 7],\n",
    "    'classifier__weights': ['uniform', 'distance'], \n",
    "    'classifier__algorithm': ['auto', 'ball_tree', 'kd_tree', 'brute'],\n",
    "    'classifier__p': [1, 2],\n",
    "}"
   ]
  },
  {
   "cell_type": "code",
   "execution_count": 69,
   "id": "1030c063-19ed-4a1a-bd6f-2e89b98da806",
   "metadata": {},
   "outputs": [
    {
     "name": "stdout",
     "output_type": "stream",
     "text": [
      "Fitting 5 folds for each of 48 candidates, totalling 240 fits\n",
      "Fitting 5 folds for each of 48 candidates, totalling 240 fits\n",
      "Fitting 5 folds for each of 48 candidates, totalling 240 fits\n",
      "Fitting 5 folds for each of 48 candidates, totalling 240 fits\n",
      "Fitting 5 folds for each of 48 candidates, totalling 240 fits\n",
      "Fitting 5 folds for each of 48 candidates, totalling 240 fits\n",
      "Fitting 5 folds for each of 48 candidates, totalling 240 fits\n"
     ]
    }
   ],
   "source": [
    "# Initialize the ModelEvaluator class\n",
    "knn_evaluator = ModelEvaluator(knn_model, knn_param_grid, X, y, sampling_techniques, random_state=19)\n",
    "\n",
    "# Evaluate the model across all resampled datasets\n",
    "knn_evaluator.evaluate()\n",
    "\n",
    "# Store the results DataFrame\n",
    "knn_results = knn_evaluator.eval_results_df"
   ]
  },
  {
   "cell_type": "markdown",
   "id": "0c60c67c-f9bf-4c02-bcbe-fadd20ff5e72",
   "metadata": {},
   "source": [
    "## Bagging Classifier"
   ]
  },
  {
   "cell_type": "code",
   "execution_count": 51,
   "id": "e84e5bfd-4840-4756-a75e-60732c6cf595",
   "metadata": {},
   "outputs": [],
   "source": [
    "# Bagging Classifier model with a DecisionTreeClassifier as the base estimator\n",
    "bagging_model = BaggingClassifier(estimator=DecisionTreeClassifier(random_state=19), random_state=19)\n",
    "\n",
    "# Parameter grid for BaggingClassifier\n",
    "bagging_param_grid = {\n",
    "    'classifier__n_estimators': [10, 50, 100],\n",
    "    'classifier__max_samples': [0.5, 0.7, 1.0],\n",
    "    'classifier__max_features': [0.5, 0.7, 1.0],\n",
    "}"
   ]
  },
  {
   "cell_type": "code",
   "execution_count": 52,
   "id": "5f80a54a-20ff-428b-b4dc-52b84821c861",
   "metadata": {},
   "outputs": [
    {
     "name": "stdout",
     "output_type": "stream",
     "text": [
      "Fitting 5 folds for each of 27 candidates, totalling 135 fits\n",
      "Fitting 5 folds for each of 27 candidates, totalling 135 fits\n",
      "Fitting 5 folds for each of 27 candidates, totalling 135 fits\n",
      "Fitting 5 folds for each of 27 candidates, totalling 135 fits\n",
      "Fitting 5 folds for each of 27 candidates, totalling 135 fits\n",
      "Fitting 5 folds for each of 27 candidates, totalling 135 fits\n",
      "Fitting 5 folds for each of 27 candidates, totalling 135 fits\n"
     ]
    }
   ],
   "source": [
    "# Initialize the ModelEvaluator class\n",
    "bagging_evaluator = ModelEvaluator(bagging_model, bagging_param_grid, X, y, sampling_techniques, random_state=19)\n",
    "\n",
    "# Evaluate the model across all resampled datasets\n",
    "bagging_evaluator.evaluate()\n",
    "\n",
    "# Store the results DataFrame\n",
    "bagging_results = bagging_evaluator.eval_results_df"
   ]
  },
  {
   "cell_type": "markdown",
   "id": "340c8dac-1737-4541-94fa-47904f8de578",
   "metadata": {},
   "source": [
    "## Random Forest "
   ]
  },
  {
   "cell_type": "code",
   "execution_count": 96,
   "id": "2f3cfa4c-b8be-420f-872a-b0d5ee0b5691",
   "metadata": {},
   "outputs": [],
   "source": [
    "# Random Forest model\n",
    "rf_model = RandomForestClassifier(random_state=19)\n",
    "\n",
    "# Parameter grid for RandomForestClassifier\n",
    "rf_param_grid = {\n",
    "    'classifier__n_estimators': [50, 100, 200],\n",
    "    'classifier__max_depth': [10, 20, 30],\n",
    "    'classifier__min_samples_split': [2, 5, 10],\n",
    "    'classifier__min_samples_leaf': [1, 2, 4],\n",
    "}"
   ]
  },
  {
   "cell_type": "code",
   "execution_count": 97,
   "id": "2359cd05-39ba-4d6a-b8e1-04a666fff73d",
   "metadata": {},
   "outputs": [
    {
     "name": "stdout",
     "output_type": "stream",
     "text": [
      "Fitting 5 folds for each of 81 candidates, totalling 405 fits\n",
      "Fitting 5 folds for each of 81 candidates, totalling 405 fits\n",
      "Fitting 5 folds for each of 81 candidates, totalling 405 fits\n",
      "Fitting 5 folds for each of 81 candidates, totalling 405 fits\n",
      "Fitting 5 folds for each of 81 candidates, totalling 405 fits\n",
      "Fitting 5 folds for each of 81 candidates, totalling 405 fits\n",
      "Fitting 5 folds for each of 81 candidates, totalling 405 fits\n"
     ]
    }
   ],
   "source": [
    "# Initialize the ModelEvaluator class\n",
    "rf_evaluator = ModelEvaluator(rf_model, rf_param_grid, X, y, sampling_techniques, random_state=19)\n",
    "\n",
    "# Evaluate the model across all resampled datasets\n",
    "rf_evaluator.evaluate()\n",
    "\n",
    "# Store the results DataFrame\n",
    "rf_results = rf_evaluator.eval_results_df"
   ]
  },
  {
   "cell_type": "markdown",
   "id": "518804c0-1336-4d13-8d51-bf78f20301fd",
   "metadata": {},
   "source": [
    "## Results"
   ]
  },
  {
   "cell_type": "code",
   "execution_count": 70,
   "id": "5e281ea0-3fef-459a-8be2-c1953fcd05ee",
   "metadata": {},
   "outputs": [],
   "source": [
    "# List all results from model evaluations\n",
    "all_results = [\n",
    "    log_reg_results,\n",
    "    dt_results,\n",
    "    knn_results,\n",
    "    bagging_results,\n",
    "    rf_results\n",
    "]"
   ]
  },
  {
   "cell_type": "code",
   "execution_count": 71,
   "id": "ba1d2d60-fed6-40f1-b12d-4a50149641f9",
   "metadata": {
    "scrolled": true
   },
   "outputs": [
    {
     "data": {
      "text/html": [
       "<div>\n",
       "<style scoped>\n",
       "    .dataframe tbody tr th:only-of-type {\n",
       "        vertical-align: middle;\n",
       "    }\n",
       "\n",
       "    .dataframe tbody tr th {\n",
       "        vertical-align: top;\n",
       "    }\n",
       "\n",
       "    .dataframe thead th {\n",
       "        text-align: right;\n",
       "    }\n",
       "</style>\n",
       "<table border=\"1\" class=\"dataframe\">\n",
       "  <thead>\n",
       "    <tr style=\"text-align: right;\">\n",
       "      <th></th>\n",
       "      <th>model_name</th>\n",
       "      <th>sampling_technique</th>\n",
       "      <th>train_prauc_score</th>\n",
       "      <th>test_prauc_score</th>\n",
       "      <th>train_f1_score</th>\n",
       "      <th>test_f1_score</th>\n",
       "    </tr>\n",
       "  </thead>\n",
       "  <tbody>\n",
       "    <tr>\n",
       "      <th>28</th>\n",
       "      <td>RandomForestClassifier</td>\n",
       "      <td>oversample</td>\n",
       "      <td>0.998481</td>\n",
       "      <td>0.971241</td>\n",
       "      <td>0.978316</td>\n",
       "      <td>0.913807</td>\n",
       "    </tr>\n",
       "    <tr>\n",
       "      <th>32</th>\n",
       "      <td>RandomForestClassifier</td>\n",
       "      <td>adasyn</td>\n",
       "      <td>0.996299</td>\n",
       "      <td>0.970340</td>\n",
       "      <td>0.965962</td>\n",
       "      <td>0.914286</td>\n",
       "    </tr>\n",
       "    <tr>\n",
       "      <th>25</th>\n",
       "      <td>BaggingClassifier</td>\n",
       "      <td>adasyn</td>\n",
       "      <td>0.999830</td>\n",
       "      <td>0.968488</td>\n",
       "      <td>0.993155</td>\n",
       "      <td>0.925342</td>\n",
       "    </tr>\n",
       "    <tr>\n",
       "      <th>30</th>\n",
       "      <td>RandomForestClassifier</td>\n",
       "      <td>borderline_smote</td>\n",
       "      <td>0.994972</td>\n",
       "      <td>0.968221</td>\n",
       "      <td>0.959611</td>\n",
       "      <td>0.914605</td>\n",
       "    </tr>\n",
       "    <tr>\n",
       "      <th>22</th>\n",
       "      <td>BaggingClassifier</td>\n",
       "      <td>smote</td>\n",
       "      <td>0.999199</td>\n",
       "      <td>0.968057</td>\n",
       "      <td>0.977940</td>\n",
       "      <td>0.917515</td>\n",
       "    </tr>\n",
       "    <tr>\n",
       "      <th>23</th>\n",
       "      <td>BaggingClassifier</td>\n",
       "      <td>borderline_smote</td>\n",
       "      <td>0.999627</td>\n",
       "      <td>0.967310</td>\n",
       "      <td>0.988822</td>\n",
       "      <td>0.926271</td>\n",
       "    </tr>\n",
       "    <tr>\n",
       "      <th>24</th>\n",
       "      <td>BaggingClassifier</td>\n",
       "      <td>kmeans_smote</td>\n",
       "      <td>0.998353</td>\n",
       "      <td>0.966774</td>\n",
       "      <td>0.971228</td>\n",
       "      <td>0.921157</td>\n",
       "    </tr>\n",
       "    <tr>\n",
       "      <th>21</th>\n",
       "      <td>BaggingClassifier</td>\n",
       "      <td>oversample</td>\n",
       "      <td>0.999983</td>\n",
       "      <td>0.966424</td>\n",
       "      <td>0.977178</td>\n",
       "      <td>0.911145</td>\n",
       "    </tr>\n",
       "    <tr>\n",
       "      <th>29</th>\n",
       "      <td>RandomForestClassifier</td>\n",
       "      <td>smote</td>\n",
       "      <td>0.999949</td>\n",
       "      <td>0.965035</td>\n",
       "      <td>0.996634</td>\n",
       "      <td>0.915372</td>\n",
       "    </tr>\n",
       "    <tr>\n",
       "      <th>26</th>\n",
       "      <td>BaggingClassifier</td>\n",
       "      <td>smote_tomek</td>\n",
       "      <td>0.995392</td>\n",
       "      <td>0.964736</td>\n",
       "      <td>0.969643</td>\n",
       "      <td>0.913806</td>\n",
       "    </tr>\n",
       "    <tr>\n",
       "      <th>33</th>\n",
       "      <td>RandomForestClassifier</td>\n",
       "      <td>smote_tomek</td>\n",
       "      <td>0.996396</td>\n",
       "      <td>0.963807</td>\n",
       "      <td>0.970475</td>\n",
       "      <td>0.916487</td>\n",
       "    </tr>\n",
       "    <tr>\n",
       "      <th>31</th>\n",
       "      <td>RandomForestClassifier</td>\n",
       "      <td>kmeans_smote</td>\n",
       "      <td>0.997993</td>\n",
       "      <td>0.960434</td>\n",
       "      <td>0.949719</td>\n",
       "      <td>0.912600</td>\n",
       "    </tr>\n",
       "    <tr>\n",
       "      <th>34</th>\n",
       "      <td>RandomForestClassifier</td>\n",
       "      <td>smote_enn</td>\n",
       "      <td>0.979185</td>\n",
       "      <td>0.956472</td>\n",
       "      <td>0.931635</td>\n",
       "      <td>0.905529</td>\n",
       "    </tr>\n",
       "    <tr>\n",
       "      <th>27</th>\n",
       "      <td>BaggingClassifier</td>\n",
       "      <td>smote_enn</td>\n",
       "      <td>0.983466</td>\n",
       "      <td>0.954653</td>\n",
       "      <td>0.950605</td>\n",
       "      <td>0.918760</td>\n",
       "    </tr>\n",
       "    <tr>\n",
       "      <th>10</th>\n",
       "      <td>DecisionTreeClassifier</td>\n",
       "      <td>kmeans_smote</td>\n",
       "      <td>0.983333</td>\n",
       "      <td>0.952493</td>\n",
       "      <td>0.928332</td>\n",
       "      <td>0.910595</td>\n",
       "    </tr>\n",
       "    <tr>\n",
       "      <th>8</th>\n",
       "      <td>DecisionTreeClassifier</td>\n",
       "      <td>smote</td>\n",
       "      <td>0.981703</td>\n",
       "      <td>0.951790</td>\n",
       "      <td>0.888180</td>\n",
       "      <td>0.870459</td>\n",
       "    </tr>\n",
       "    <tr>\n",
       "      <th>7</th>\n",
       "      <td>DecisionTreeClassifier</td>\n",
       "      <td>oversample</td>\n",
       "      <td>0.982515</td>\n",
       "      <td>0.950761</td>\n",
       "      <td>0.894785</td>\n",
       "      <td>0.869360</td>\n",
       "    </tr>\n",
       "    <tr>\n",
       "      <th>12</th>\n",
       "      <td>DecisionTreeClassifier</td>\n",
       "      <td>smote_tomek</td>\n",
       "      <td>0.978809</td>\n",
       "      <td>0.946426</td>\n",
       "      <td>0.892620</td>\n",
       "      <td>0.874519</td>\n",
       "    </tr>\n",
       "    <tr>\n",
       "      <th>11</th>\n",
       "      <td>DecisionTreeClassifier</td>\n",
       "      <td>adasyn</td>\n",
       "      <td>0.972362</td>\n",
       "      <td>0.943649</td>\n",
       "      <td>0.870733</td>\n",
       "      <td>0.846561</td>\n",
       "    </tr>\n",
       "    <tr>\n",
       "      <th>9</th>\n",
       "      <td>DecisionTreeClassifier</td>\n",
       "      <td>borderline_smote</td>\n",
       "      <td>0.974505</td>\n",
       "      <td>0.936696</td>\n",
       "      <td>0.892898</td>\n",
       "      <td>0.870437</td>\n",
       "    </tr>\n",
       "    <tr>\n",
       "      <th>13</th>\n",
       "      <td>DecisionTreeClassifier</td>\n",
       "      <td>smote_enn</td>\n",
       "      <td>0.943197</td>\n",
       "      <td>0.913165</td>\n",
       "      <td>0.901200</td>\n",
       "      <td>0.887129</td>\n",
       "    </tr>\n",
       "    <tr>\n",
       "      <th>17</th>\n",
       "      <td>KNeighborsClassifier</td>\n",
       "      <td>kmeans_smote</td>\n",
       "      <td>1.000000</td>\n",
       "      <td>0.843816</td>\n",
       "      <td>1.000000</td>\n",
       "      <td>0.821293</td>\n",
       "    </tr>\n",
       "    <tr>\n",
       "      <th>15</th>\n",
       "      <td>KNeighborsClassifier</td>\n",
       "      <td>smote</td>\n",
       "      <td>1.000000</td>\n",
       "      <td>0.818170</td>\n",
       "      <td>1.000000</td>\n",
       "      <td>0.795489</td>\n",
       "    </tr>\n",
       "    <tr>\n",
       "      <th>19</th>\n",
       "      <td>KNeighborsClassifier</td>\n",
       "      <td>smote_tomek</td>\n",
       "      <td>0.993239</td>\n",
       "      <td>0.809040</td>\n",
       "      <td>0.976009</td>\n",
       "      <td>0.793015</td>\n",
       "    </tr>\n",
       "    <tr>\n",
       "      <th>18</th>\n",
       "      <td>KNeighborsClassifier</td>\n",
       "      <td>adasyn</td>\n",
       "      <td>1.000000</td>\n",
       "      <td>0.796975</td>\n",
       "      <td>1.000000</td>\n",
       "      <td>0.787848</td>\n",
       "    </tr>\n",
       "    <tr>\n",
       "      <th>16</th>\n",
       "      <td>KNeighborsClassifier</td>\n",
       "      <td>borderline_smote</td>\n",
       "      <td>1.000000</td>\n",
       "      <td>0.794464</td>\n",
       "      <td>1.000000</td>\n",
       "      <td>0.795396</td>\n",
       "    </tr>\n",
       "    <tr>\n",
       "      <th>14</th>\n",
       "      <td>KNeighborsClassifier</td>\n",
       "      <td>oversample</td>\n",
       "      <td>1.000000</td>\n",
       "      <td>0.775235</td>\n",
       "      <td>1.000000</td>\n",
       "      <td>0.767874</td>\n",
       "    </tr>\n",
       "    <tr>\n",
       "      <th>3</th>\n",
       "      <td>LogisticRegression</td>\n",
       "      <td>kmeans_smote</td>\n",
       "      <td>0.751408</td>\n",
       "      <td>0.774299</td>\n",
       "      <td>0.798076</td>\n",
       "      <td>0.807059</td>\n",
       "    </tr>\n",
       "    <tr>\n",
       "      <th>6</th>\n",
       "      <td>LogisticRegression</td>\n",
       "      <td>smote_enn</td>\n",
       "      <td>0.748110</td>\n",
       "      <td>0.770207</td>\n",
       "      <td>0.641459</td>\n",
       "      <td>0.645880</td>\n",
       "    </tr>\n",
       "    <tr>\n",
       "      <th>5</th>\n",
       "      <td>LogisticRegression</td>\n",
       "      <td>smote_tomek</td>\n",
       "      <td>0.744452</td>\n",
       "      <td>0.767309</td>\n",
       "      <td>0.629581</td>\n",
       "      <td>0.632363</td>\n",
       "    </tr>\n",
       "    <tr>\n",
       "      <th>1</th>\n",
       "      <td>LogisticRegression</td>\n",
       "      <td>smote</td>\n",
       "      <td>0.743492</td>\n",
       "      <td>0.766343</td>\n",
       "      <td>0.626977</td>\n",
       "      <td>0.630958</td>\n",
       "    </tr>\n",
       "    <tr>\n",
       "      <th>0</th>\n",
       "      <td>LogisticRegression</td>\n",
       "      <td>oversample</td>\n",
       "      <td>0.741616</td>\n",
       "      <td>0.765790</td>\n",
       "      <td>0.638921</td>\n",
       "      <td>0.646519</td>\n",
       "    </tr>\n",
       "    <tr>\n",
       "      <th>2</th>\n",
       "      <td>LogisticRegression</td>\n",
       "      <td>borderline_smote</td>\n",
       "      <td>0.714248</td>\n",
       "      <td>0.737881</td>\n",
       "      <td>0.528432</td>\n",
       "      <td>0.528352</td>\n",
       "    </tr>\n",
       "    <tr>\n",
       "      <th>4</th>\n",
       "      <td>LogisticRegression</td>\n",
       "      <td>adasyn</td>\n",
       "      <td>0.707981</td>\n",
       "      <td>0.731038</td>\n",
       "      <td>0.512929</td>\n",
       "      <td>0.511060</td>\n",
       "    </tr>\n",
       "    <tr>\n",
       "      <th>20</th>\n",
       "      <td>KNeighborsClassifier</td>\n",
       "      <td>smote_enn</td>\n",
       "      <td>0.834975</td>\n",
       "      <td>0.677045</td>\n",
       "      <td>0.825668</td>\n",
       "      <td>0.708702</td>\n",
       "    </tr>\n",
       "  </tbody>\n",
       "</table>\n",
       "</div>"
      ],
      "text/plain": [
       "                model_name sampling_technique  train_prauc_score  \\\n",
       "28  RandomForestClassifier         oversample           0.998481   \n",
       "32  RandomForestClassifier             adasyn           0.996299   \n",
       "25       BaggingClassifier             adasyn           0.999830   \n",
       "30  RandomForestClassifier   borderline_smote           0.994972   \n",
       "22       BaggingClassifier              smote           0.999199   \n",
       "23       BaggingClassifier   borderline_smote           0.999627   \n",
       "24       BaggingClassifier       kmeans_smote           0.998353   \n",
       "21       BaggingClassifier         oversample           0.999983   \n",
       "29  RandomForestClassifier              smote           0.999949   \n",
       "26       BaggingClassifier        smote_tomek           0.995392   \n",
       "33  RandomForestClassifier        smote_tomek           0.996396   \n",
       "31  RandomForestClassifier       kmeans_smote           0.997993   \n",
       "34  RandomForestClassifier          smote_enn           0.979185   \n",
       "27       BaggingClassifier          smote_enn           0.983466   \n",
       "10  DecisionTreeClassifier       kmeans_smote           0.983333   \n",
       "8   DecisionTreeClassifier              smote           0.981703   \n",
       "7   DecisionTreeClassifier         oversample           0.982515   \n",
       "12  DecisionTreeClassifier        smote_tomek           0.978809   \n",
       "11  DecisionTreeClassifier             adasyn           0.972362   \n",
       "9   DecisionTreeClassifier   borderline_smote           0.974505   \n",
       "13  DecisionTreeClassifier          smote_enn           0.943197   \n",
       "17    KNeighborsClassifier       kmeans_smote           1.000000   \n",
       "15    KNeighborsClassifier              smote           1.000000   \n",
       "19    KNeighborsClassifier        smote_tomek           0.993239   \n",
       "18    KNeighborsClassifier             adasyn           1.000000   \n",
       "16    KNeighborsClassifier   borderline_smote           1.000000   \n",
       "14    KNeighborsClassifier         oversample           1.000000   \n",
       "3       LogisticRegression       kmeans_smote           0.751408   \n",
       "6       LogisticRegression          smote_enn           0.748110   \n",
       "5       LogisticRegression        smote_tomek           0.744452   \n",
       "1       LogisticRegression              smote           0.743492   \n",
       "0       LogisticRegression         oversample           0.741616   \n",
       "2       LogisticRegression   borderline_smote           0.714248   \n",
       "4       LogisticRegression             adasyn           0.707981   \n",
       "20    KNeighborsClassifier          smote_enn           0.834975   \n",
       "\n",
       "    test_prauc_score  train_f1_score  test_f1_score  \n",
       "28          0.971241        0.978316       0.913807  \n",
       "32          0.970340        0.965962       0.914286  \n",
       "25          0.968488        0.993155       0.925342  \n",
       "30          0.968221        0.959611       0.914605  \n",
       "22          0.968057        0.977940       0.917515  \n",
       "23          0.967310        0.988822       0.926271  \n",
       "24          0.966774        0.971228       0.921157  \n",
       "21          0.966424        0.977178       0.911145  \n",
       "29          0.965035        0.996634       0.915372  \n",
       "26          0.964736        0.969643       0.913806  \n",
       "33          0.963807        0.970475       0.916487  \n",
       "31          0.960434        0.949719       0.912600  \n",
       "34          0.956472        0.931635       0.905529  \n",
       "27          0.954653        0.950605       0.918760  \n",
       "10          0.952493        0.928332       0.910595  \n",
       "8           0.951790        0.888180       0.870459  \n",
       "7           0.950761        0.894785       0.869360  \n",
       "12          0.946426        0.892620       0.874519  \n",
       "11          0.943649        0.870733       0.846561  \n",
       "9           0.936696        0.892898       0.870437  \n",
       "13          0.913165        0.901200       0.887129  \n",
       "17          0.843816        1.000000       0.821293  \n",
       "15          0.818170        1.000000       0.795489  \n",
       "19          0.809040        0.976009       0.793015  \n",
       "18          0.796975        1.000000       0.787848  \n",
       "16          0.794464        1.000000       0.795396  \n",
       "14          0.775235        1.000000       0.767874  \n",
       "3           0.774299        0.798076       0.807059  \n",
       "6           0.770207        0.641459       0.645880  \n",
       "5           0.767309        0.629581       0.632363  \n",
       "1           0.766343        0.626977       0.630958  \n",
       "0           0.765790        0.638921       0.646519  \n",
       "2           0.737881        0.528432       0.528352  \n",
       "4           0.731038        0.512929       0.511060  \n",
       "20          0.677045        0.825668       0.708702  "
      ]
     },
     "execution_count": 71,
     "metadata": {},
     "output_type": "execute_result"
    }
   ],
   "source": [
    "# List to hold DataFrames\n",
    "dataframes_list = []\n",
    "\n",
    "# Create results DataFrame\n",
    "for result in all_results:\n",
    "    dataframes_list.append(pd.DataFrame(result))\n",
    "\n",
    "# Concatenate the DataFrames\n",
    "results_df = pd.concat(dataframes_list, ignore_index=True)\n",
    "\n",
    "results_df.sort_values(['test_prauc_score'], ascending=False)"
   ]
  },
  {
   "cell_type": "markdown",
   "id": "82e6c678-76b8-4f64-b13c-8ce8a8288745",
   "metadata": {},
   "source": [
    "## Best Model Investigation"
   ]
  },
  {
   "cell_type": "markdown",
   "id": "02cc93e4-4c6d-4655-a6fa-0841dc6645b9",
   "metadata": {},
   "source": [
    "### Feature Importance of the Best Model"
   ]
  },
  {
   "cell_type": "code",
   "execution_count": 57,
   "id": "6c8e1a8f-65f1-4a74-a26a-a124c7c8a1f0",
   "metadata": {},
   "outputs": [
    {
     "data": {
      "text/html": [
       "<div>\n",
       "<style scoped>\n",
       "    .dataframe tbody tr th:only-of-type {\n",
       "        vertical-align: middle;\n",
       "    }\n",
       "\n",
       "    .dataframe tbody tr th {\n",
       "        vertical-align: top;\n",
       "    }\n",
       "\n",
       "    .dataframe thead th {\n",
       "        text-align: right;\n",
       "    }\n",
       "</style>\n",
       "<table border=\"1\" class=\"dataframe\">\n",
       "  <thead>\n",
       "    <tr style=\"text-align: right;\">\n",
       "      <th></th>\n",
       "      <th>Feature</th>\n",
       "      <th>Importance</th>\n",
       "    </tr>\n",
       "  </thead>\n",
       "  <tbody>\n",
       "    <tr>\n",
       "      <th>0</th>\n",
       "      <td>amt</td>\n",
       "      <td>0.634665</td>\n",
       "    </tr>\n",
       "    <tr>\n",
       "      <th>3</th>\n",
       "      <td>category_gas_transport</td>\n",
       "      <td>0.034981</td>\n",
       "    </tr>\n",
       "    <tr>\n",
       "      <th>12</th>\n",
       "      <td>category_shopping_net</td>\n",
       "      <td>0.034131</td>\n",
       "    </tr>\n",
       "    <tr>\n",
       "      <th>5</th>\n",
       "      <td>category_grocery_pos</td>\n",
       "      <td>0.029370</td>\n",
       "    </tr>\n",
       "    <tr>\n",
       "      <th>1</th>\n",
       "      <td>city_pop</td>\n",
       "      <td>0.021665</td>\n",
       "    </tr>\n",
       "    <tr>\n",
       "      <th>7</th>\n",
       "      <td>category_home</td>\n",
       "      <td>0.016350</td>\n",
       "    </tr>\n",
       "    <tr>\n",
       "      <th>8</th>\n",
       "      <td>category_kids_pets</td>\n",
       "      <td>0.015712</td>\n",
       "    </tr>\n",
       "    <tr>\n",
       "      <th>15</th>\n",
       "      <td>gender_M</td>\n",
       "      <td>0.015700</td>\n",
       "    </tr>\n",
       "    <tr>\n",
       "      <th>9</th>\n",
       "      <td>category_misc_net</td>\n",
       "      <td>0.013976</td>\n",
       "    </tr>\n",
       "    <tr>\n",
       "      <th>2</th>\n",
       "      <td>category_food_dining</td>\n",
       "      <td>0.013029</td>\n",
       "    </tr>\n",
       "    <tr>\n",
       "      <th>6</th>\n",
       "      <td>category_health_fitness</td>\n",
       "      <td>0.012444</td>\n",
       "    </tr>\n",
       "    <tr>\n",
       "      <th>84</th>\n",
       "      <td>age_group_Millennial</td>\n",
       "      <td>0.010437</td>\n",
       "    </tr>\n",
       "    <tr>\n",
       "      <th>11</th>\n",
       "      <td>category_personal_care</td>\n",
       "      <td>0.010088</td>\n",
       "    </tr>\n",
       "    <tr>\n",
       "      <th>82</th>\n",
       "      <td>age_group_Gen X</td>\n",
       "      <td>0.009825</td>\n",
       "    </tr>\n",
       "    <tr>\n",
       "      <th>14</th>\n",
       "      <td>category_travel</td>\n",
       "      <td>0.008446</td>\n",
       "    </tr>\n",
       "    <tr>\n",
       "      <th>10</th>\n",
       "      <td>category_misc_pos</td>\n",
       "      <td>0.008090</td>\n",
       "    </tr>\n",
       "    <tr>\n",
       "      <th>13</th>\n",
       "      <td>category_shopping_pos</td>\n",
       "      <td>0.007754</td>\n",
       "    </tr>\n",
       "    <tr>\n",
       "      <th>4</th>\n",
       "      <td>category_grocery_net</td>\n",
       "      <td>0.007724</td>\n",
       "    </tr>\n",
       "    <tr>\n",
       "      <th>85</th>\n",
       "      <td>age_group_Silent Generation</td>\n",
       "      <td>0.005309</td>\n",
       "    </tr>\n",
       "    <tr>\n",
       "      <th>70</th>\n",
       "      <td>job_business and management</td>\n",
       "      <td>0.005121</td>\n",
       "    </tr>\n",
       "  </tbody>\n",
       "</table>\n",
       "</div>"
      ],
      "text/plain": [
       "                        Feature  Importance\n",
       "0                           amt    0.634665\n",
       "3        category_gas_transport    0.034981\n",
       "12        category_shopping_net    0.034131\n",
       "5          category_grocery_pos    0.029370\n",
       "1                      city_pop    0.021665\n",
       "7                 category_home    0.016350\n",
       "8            category_kids_pets    0.015712\n",
       "15                     gender_M    0.015700\n",
       "9             category_misc_net    0.013976\n",
       "2          category_food_dining    0.013029\n",
       "6       category_health_fitness    0.012444\n",
       "84         age_group_Millennial    0.010437\n",
       "11       category_personal_care    0.010088\n",
       "82              age_group_Gen X    0.009825\n",
       "14              category_travel    0.008446\n",
       "10            category_misc_pos    0.008090\n",
       "13        category_shopping_pos    0.007754\n",
       "4          category_grocery_net    0.007724\n",
       "85  age_group_Silent Generation    0.005309\n",
       "70  job_business and management    0.005121"
      ]
     },
     "execution_count": 57,
     "metadata": {},
     "output_type": "execute_result"
    }
   ],
   "source": [
    "# Sort the stored DataFrame\n",
    "sorted_feature_importances_df = rf_evaluator.feature_importances_df.sort_values(by='Importance', ascending=False)\n",
    "\n",
    "# Display the top 20 features\n",
    "sorted_feature_importances_df.head(20)"
   ]
  },
  {
   "cell_type": "markdown",
   "id": "2c1717d8-821a-431e-89c7-eb90243abc73",
   "metadata": {},
   "source": [
    "Amount is by and far the most important feature to the model. Similar to the investigation we did earlier, this is due to the high concentration of fraudulent transactions that occur in between the amounts ranging from 200-2000."
   ]
  },
  {
   "cell_type": "markdown",
   "id": "f529d66a-16da-41f0-a7f3-7cba8b8cb9cb",
   "metadata": {},
   "source": [
    "### Thoughts on the Best Model"
   ]
  },
  {
   "cell_type": "markdown",
   "id": "5d9a0a1a-30d6-4c8a-929f-c9b56837889f",
   "metadata": {},
   "source": [
    "From the above models, we can see that the Random Forest model using the oversample resampling technique gave the best PR-AUC score. \n",
    "\n",
    "Given that the Random Forest model using the oversample resampling technique gave the best PR-AUC score, we will use this model going forward as we attempt to improve the PR-AUC score even more. "
   ]
  },
  {
   "cell_type": "markdown",
   "id": "379d2d33-54d4-4b4b-9202-11f7b42f6121",
   "metadata": {},
   "source": [
    "# Boosting Models"
   ]
  },
  {
   "cell_type": "markdown",
   "id": "0dc62684-09d0-4713-b450-bbde20278e64",
   "metadata": {},
   "source": [
    "## Gradient Boosting Classifier"
   ]
  },
  {
   "cell_type": "code",
   "execution_count": 122,
   "id": "94465e55-7acc-46eb-930f-7f7488019508",
   "metadata": {},
   "outputs": [],
   "source": [
    "# Instantiate the boosting model and parameter grid\n",
    "gbm_model = GradientBoostingClassifier(random_state=19)\n",
    "\n",
    "gbm_param_grid = {\n",
    "    'classifier__n_estimators': [100, 200],\n",
    "    'classifier__max_depth': [3, 4],\n",
    "    'classifier__subsample': [0.8, 1.0]\n",
    "}"
   ]
  },
  {
   "cell_type": "code",
   "execution_count": 123,
   "id": "e92af1f6-b79f-4f70-b732-4343f87f7886",
   "metadata": {},
   "outputs": [
    {
     "name": "stdout",
     "output_type": "stream",
     "text": [
      "Fitting 5 folds for each of 8 candidates, totalling 40 fits\n"
     ]
    }
   ],
   "source": [
    "# Boost the best model with hyperparameter tuning\n",
    "rf_evaluator.boost_best_model(gbm_model, gbm_param_grid, 'oversample')"
   ]
  },
  {
   "cell_type": "code",
   "execution_count": 124,
   "id": "7b66aec7-a9b7-4d45-ba6d-15715338f99f",
   "metadata": {},
   "outputs": [],
   "source": [
    "# Store the results DataFrame\n",
    "gbm_results = rf_evaluator.boosting_results_df"
   ]
  },
  {
   "cell_type": "markdown",
   "id": "0e59fb73-79c2-4dd0-b13a-f9bfebdfbe6a",
   "metadata": {},
   "source": [
    "## Light GBM"
   ]
  },
  {
   "cell_type": "code",
   "execution_count": 98,
   "id": "36772d9f-c87e-49f7-8985-0b3f6944b8c3",
   "metadata": {},
   "outputs": [],
   "source": [
    "# Instantiate the boosting model and parameter grid\n",
    "lgb_model = LGBMClassifier(random_state=19)\n",
    "lgb_param_grid = {\n",
    "    'classifier__num_leaves': [31, 127],\n",
    "    'classifier__learning_rate': [0.01, 0.1],\n",
    "    'classifier__n_estimators': [100, 200]\n",
    "}"
   ]
  },
  {
   "cell_type": "code",
   "execution_count": 99,
   "id": "144744ef-7418-4050-98a7-dddc0c259413",
   "metadata": {},
   "outputs": [
    {
     "name": "stdout",
     "output_type": "stream",
     "text": [
      "Fitting 5 folds for each of 8 candidates, totalling 40 fits\n",
      "[LightGBM] [Info] Number of positive: 25270, number of negative: 25270\n",
      "[LightGBM] [Info] Auto-choosing row-wise multi-threading, the overhead of testing was 0.000403 seconds.\n",
      "You can set `force_row_wise=true` to remove the overhead.\n",
      "And if memory is not enough, you can set `force_col_wise=true`.\n",
      "[LightGBM] [Info] Total Bins 677\n",
      "[LightGBM] [Info] Number of data points in the train set: 50540, number of used features: 85\n",
      "[LightGBM] [Info] [binary:BoostFromScore]: pavg=0.500000 -> initscore=0.000000\n"
     ]
    }
   ],
   "source": [
    "# Boost the best model with hyperparameter tuning\n",
    "rf_evaluator.boost_best_model(lgb_model, lgb_param_grid, 'oversample')"
   ]
  },
  {
   "cell_type": "code",
   "execution_count": 100,
   "id": "64f89d0b-f1aa-4bd6-97bc-514fc1758d0f",
   "metadata": {},
   "outputs": [],
   "source": [
    "# Store the results DataFrame\n",
    "lightgbm_results = rf_evaluator.boosting_results_df"
   ]
  },
  {
   "cell_type": "markdown",
   "id": "062a17f1-41a0-4b65-ac09-aa80ac48a87d",
   "metadata": {},
   "source": [
    "## XGBoost"
   ]
  },
  {
   "cell_type": "code",
   "execution_count": 102,
   "id": "f914aaca-623c-443e-b075-a83b94135dfd",
   "metadata": {},
   "outputs": [],
   "source": [
    "# Instantiate the boosting model and parameter grid\n",
    "xgb_model = XGBClassifier(random_state=19)\n",
    "xgb_param_grid = {\n",
    "    'classifier__n_estimators': [50, 100, 150],\n",
    "    'classifier__max_depth': [3, 5, 7],\n",
    "    'classifier__learning_rate': [0.01, 0.1, 0.2],\n",
    "    'classifier__subsample': [0.8, 1.0]\n",
    "}"
   ]
  },
  {
   "cell_type": "code",
   "execution_count": 103,
   "id": "47357549-6428-44ad-8e81-f1255d2e50d1",
   "metadata": {},
   "outputs": [
    {
     "name": "stdout",
     "output_type": "stream",
     "text": [
      "Fitting 5 folds for each of 54 candidates, totalling 270 fits\n"
     ]
    }
   ],
   "source": [
    "# Boost the best model with hyperparameter tuning\n",
    "rf_evaluator.boost_best_model(xgb_model, xgb_param_grid, 'oversample')"
   ]
  },
  {
   "cell_type": "code",
   "execution_count": 104,
   "id": "d55dc6f0-e862-47d2-ad74-b08e67681af5",
   "metadata": {},
   "outputs": [],
   "source": [
    "# Store the results DataFrame\n",
    "xgb_results = rf_evaluator.boosting_results_df"
   ]
  },
  {
   "cell_type": "markdown",
   "id": "4a64955d-762d-41af-b190-809f7ec4b660",
   "metadata": {},
   "source": [
    "## Results"
   ]
  },
  {
   "cell_type": "code",
   "execution_count": 125,
   "id": "31a33436-0b52-47de-9b2d-3ca142466ca5",
   "metadata": {},
   "outputs": [
    {
     "data": {
      "text/html": [
       "<div>\n",
       "<style scoped>\n",
       "    .dataframe tbody tr th:only-of-type {\n",
       "        vertical-align: middle;\n",
       "    }\n",
       "\n",
       "    .dataframe tbody tr th {\n",
       "        vertical-align: top;\n",
       "    }\n",
       "\n",
       "    .dataframe thead th {\n",
       "        text-align: right;\n",
       "    }\n",
       "</style>\n",
       "<table border=\"1\" class=\"dataframe\">\n",
       "  <thead>\n",
       "    <tr style=\"text-align: right;\">\n",
       "      <th></th>\n",
       "      <th>base_model</th>\n",
       "      <th>sampling_technique</th>\n",
       "      <th>boosting_model</th>\n",
       "      <th>train_prauc_score</th>\n",
       "      <th>test_prauc_score</th>\n",
       "      <th>train_f1_score</th>\n",
       "      <th>test_f1_score</th>\n",
       "    </tr>\n",
       "  </thead>\n",
       "  <tbody>\n",
       "    <tr>\n",
       "      <th>1</th>\n",
       "      <td>RandomForestClassifier</td>\n",
       "      <td>oversample</td>\n",
       "      <td>LGBMClassifier</td>\n",
       "      <td>0.999729</td>\n",
       "      <td>0.998722</td>\n",
       "      <td>0.976525</td>\n",
       "      <td>0.961052</td>\n",
       "    </tr>\n",
       "    <tr>\n",
       "      <th>2</th>\n",
       "      <td>RandomForestClassifier</td>\n",
       "      <td>oversample</td>\n",
       "      <td>XGBClassifier</td>\n",
       "      <td>0.998851</td>\n",
       "      <td>0.997415</td>\n",
       "      <td>0.967047</td>\n",
       "      <td>0.959777</td>\n",
       "    </tr>\n",
       "    <tr>\n",
       "      <th>0</th>\n",
       "      <td>RandomForestClassifier</td>\n",
       "      <td>oversample</td>\n",
       "      <td>GradientBoostingClassifier</td>\n",
       "      <td>0.992277</td>\n",
       "      <td>0.995936</td>\n",
       "      <td>0.924822</td>\n",
       "      <td>0.925971</td>\n",
       "    </tr>\n",
       "  </tbody>\n",
       "</table>\n",
       "</div>"
      ],
      "text/plain": [
       "               base_model sampling_technique              boosting_model  \\\n",
       "1  RandomForestClassifier         oversample              LGBMClassifier   \n",
       "2  RandomForestClassifier         oversample               XGBClassifier   \n",
       "0  RandomForestClassifier         oversample  GradientBoostingClassifier   \n",
       "\n",
       "   train_prauc_score  test_prauc_score  train_f1_score  test_f1_score  \n",
       "1           0.999729          0.998722        0.976525       0.961052  \n",
       "2           0.998851          0.997415        0.967047       0.959777  \n",
       "0           0.992277          0.995936        0.924822       0.925971  "
      ]
     },
     "execution_count": 125,
     "metadata": {},
     "output_type": "execute_result"
    }
   ],
   "source": [
    "# List all results from model evaluations\n",
    "boosted_results_df = pd.concat([gbm_results, lightgbm_results, xgb_results], ignore_index=True)\n",
    "\n",
    "# Update column names\n",
    "boosted_results_df.rename(columns={'train_average_precision_score': 'train_prauc_score', 'test_average_precision_score' : 'test_prauc_score'}, inplace=True)\n",
    "\n",
    "boosted_results_df.sort_values(['test_prauc_score'], ascending=False)"
   ]
  },
  {
   "cell_type": "markdown",
   "id": "9f209bfe-47c9-47f8-a0d9-a5b15729a2b0",
   "metadata": {},
   "source": [
    "**Model Score**\n",
    "\n",
    "The best boosted model is the Light Gradient Boosted model which scored a 0.998722 test PR-AUC score. \n",
    "\n",
    "The PR-AUC evaluation metric highlights the model's:\n",
    "\n",
    "- High Precision\n",
    "    - The model achieves a high precision, meaning that when it predicts a transaction as fraudulent, it is very likely to be correct. This reduces the number of false positives—legitimate transactions that are incorrectly flagged as fraud.\n",
    "\n",
    "- High Recall\n",
    "    - The model also demonstrates high recall, meaning it correctly identifies a large proportion of actual fraudulent transactions. High recall ensures that as few fraudulent transactions as possible go undetected.\n",
    " \n",
    "\n",
    "**Business Impact**\n",
    "\n",
    "- Customer Experience\n",
    "    - With high precision and recall, customers are less likely to be inconvenienced by false alarms, and genuine fraud attempts are more likely to be caught early, protecting customers from potential financial harm.\n",
    "\n",
    "- Operational Efficiency\n",
    "    - Fewer false positives mean that fewer resources need to be spent on investigating transactions that aren’t actually fraudulent. This allows fraud analysts to focus on the transactions that are most likely to be fraudulent.\n",
    "\n",
    "- Risk Management\n",
    "    - High recall ensures that the model captures the majority of fraudulent transactions, which is crucial for minimizing financial losses and maintaining trust with customers."
   ]
  },
  {
   "cell_type": "code",
   "execution_count": null,
   "id": "d028a24a-e095-42fd-84db-7305906bc05f",
   "metadata": {},
   "outputs": [],
   "source": []
  }
 ],
 "metadata": {
  "kernelspec": {
   "display_name": "Python (data_science_env)",
   "language": "python",
   "name": "data_science_env"
  },
  "language_info": {
   "codemirror_mode": {
    "name": "ipython",
    "version": 3
   },
   "file_extension": ".py",
   "mimetype": "text/x-python",
   "name": "python",
   "nbconvert_exporter": "python",
   "pygments_lexer": "ipython3",
   "version": "3.8.15"
  }
 },
 "nbformat": 4,
 "nbformat_minor": 5
}
